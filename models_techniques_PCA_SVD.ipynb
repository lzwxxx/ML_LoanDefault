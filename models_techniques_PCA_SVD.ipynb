{
 "cells": [
  {
   "cell_type": "code",
   "execution_count": 1,
   "id": "21dd3f34",
   "metadata": {
    "id": "21dd3f34"
   },
   "outputs": [],
   "source": [
    "import re\n",
    "import io\n",
    "\n",
    "from datetime import datetime\n",
    "begin = datetime.now()\n",
    "start=datetime.now()\n",
    "\n",
    "#General libraries needed\n",
    "import numpy as np\n",
    "import pandas as pd\n",
    "import matplotlib.pyplot as plt\n",
    "import seaborn as sns\n",
    "\n",
    "#Libraries for data pre-processing\n",
    "from sklearn.model_selection import train_test_split\n",
    "from sklearn import metrics\n",
    "from sklearn.metrics import classification_report,confusion_matrix, accuracy_score, precision_score,recall_score,f1_score\n",
    "from sklearn import preprocessing\n",
    "\n",
    "#For Logisitic Regression implementation\n",
    "from sklearn.linear_model import LogisticRegression\n",
    "\n",
    "#For Decision Tree implementation\n",
    "from scipy.stats import entropy\n",
    "from sklearn.tree import DecisionTreeClassifier\n",
    "from sklearn import tree\n",
    "\n",
    "#For Random Forest implementation\n",
    "from sklearn.ensemble import RandomForestClassifier\n",
    "\n",
    "#For Bagging implementation\n",
    "from sklearn.ensemble import BaggingClassifier\n",
    "\n",
    "#For AdaBoost implementation\n",
    "from sklearn.ensemble import AdaBoostClassifier\n",
    "\n",
    "# For Naive Bayes\n",
    "from sklearn.naive_bayes import GaussianNB\n",
    "\n",
    "#For Stacking\n",
    "from sklearn.ensemble import StackingClassifier\n",
    "\n",
    "import tensorflow as tf\n",
    "from tensorflow import keras\n",
    "from tensorflow.keras.models import Sequential\n",
    "from tensorflow.keras.layers import Dense\n",
    "\n",
    "from sklearn import svm\n",
    "\n",
    "# For SVM\n",
    "from sklearn.svm import LinearSVC, SVC\n",
    "\n",
    "# For MLP Classifier\n",
    "from sklearn.neural_network import MLPClassifier\n",
    "\n",
    "from sklearn.decomposition import PCA\n",
    "\n",
    "from sklearn.preprocessing import StandardScaler\n",
    "standardScaler = StandardScaler()\n",
    "\n",
    "from sklearn.model_selection import GridSearchCV\n",
    "\n",
    "#Settings\n",
    "#matplotlib inline\n",
    "pd.options.display.float_format = '{:.2f}'.format\n",
    "# np.set_printoptions(threshold=np.nan)\n",
    "# sns.set()\n",
    "\n",
    "#from google.colab import files\n",
    "\n",
    "import warnings\n",
    "warnings.filterwarnings('ignore')\n",
    "\n",
    "import random\n",
    "\n",
    "# Set random seed for the Python environment\n",
    "random.seed(42)\n",
    "np.random.seed(42)\n",
    "tf.random.set_seed(42)"
   ]
  },
  {
   "cell_type": "markdown",
   "id": "e95fbea5",
   "metadata": {
    "id": "e95fbea5"
   },
   "source": [
    "## Reading the file"
   ]
  },
  {
   "cell_type": "code",
   "execution_count": 2,
   "id": "409041fb",
   "metadata": {
    "id": "409041fb"
   },
   "outputs": [],
   "source": [
    "df = pd.read_csv('./Datasets/loan_default_latest_ver.csv')"
   ]
  },
  {
   "cell_type": "code",
   "execution_count": 3,
   "id": "dab7dc93",
   "metadata": {
    "colab": {
     "base_uri": "https://localhost:8080/",
     "height": 505
    },
    "executionInfo": {
     "elapsed": 393,
     "status": "ok",
     "timestamp": 1681470080124,
     "user": {
      "displayName": "YIP YI MUN _",
      "userId": "16901285140938076480"
     },
     "user_tz": -480
    },
    "id": "dab7dc93",
    "outputId": "223adfa0-988d-48e9-f055-ed0463e9497c"
   },
   "outputs": [
    {
     "data": {
      "text/html": [
       "<div>\n",
       "<style scoped>\n",
       "    .dataframe tbody tr th:only-of-type {\n",
       "        vertical-align: middle;\n",
       "    }\n",
       "\n",
       "    .dataframe tbody tr th {\n",
       "        vertical-align: top;\n",
       "    }\n",
       "\n",
       "    .dataframe thead th {\n",
       "        text-align: right;\n",
       "    }\n",
       "</style>\n",
       "<table border=\"1\" class=\"dataframe\">\n",
       "  <thead>\n",
       "    <tr style=\"text-align: right;\">\n",
       "      <th></th>\n",
       "      <th>loan_limit</th>\n",
       "      <th>approv_in_adv</th>\n",
       "      <th>credit_worthiness</th>\n",
       "      <th>open_credit</th>\n",
       "      <th>business_or_commercial</th>\n",
       "      <th>loan_amount</th>\n",
       "      <th>rate_of_interest</th>\n",
       "      <th>interest_rate_spread</th>\n",
       "      <th>upfront_charges</th>\n",
       "      <th>term</th>\n",
       "      <th>...</th>\n",
       "      <th>age_35-44</th>\n",
       "      <th>age_45-54</th>\n",
       "      <th>age_55-64</th>\n",
       "      <th>age_65-74</th>\n",
       "      <th>under_25</th>\n",
       "      <th>over_74</th>\n",
       "      <th>North</th>\n",
       "      <th>North-East</th>\n",
       "      <th>central</th>\n",
       "      <th>south</th>\n",
       "    </tr>\n",
       "  </thead>\n",
       "  <tbody>\n",
       "    <tr>\n",
       "      <th>0</th>\n",
       "      <td>0</td>\n",
       "      <td>0</td>\n",
       "      <td>0</td>\n",
       "      <td>0</td>\n",
       "      <td>1</td>\n",
       "      <td>116500</td>\n",
       "      <td>4.05</td>\n",
       "      <td>0.44</td>\n",
       "      <td>3225.00</td>\n",
       "      <td>360.00</td>\n",
       "      <td>...</td>\n",
       "      <td>0.00</td>\n",
       "      <td>0.00</td>\n",
       "      <td>0.00</td>\n",
       "      <td>0.00</td>\n",
       "      <td>0.00</td>\n",
       "      <td>0.00</td>\n",
       "      <td>0.00</td>\n",
       "      <td>0.00</td>\n",
       "      <td>0.00</td>\n",
       "      <td>1.00</td>\n",
       "    </tr>\n",
       "    <tr>\n",
       "      <th>1</th>\n",
       "      <td>0</td>\n",
       "      <td>0</td>\n",
       "      <td>0</td>\n",
       "      <td>0</td>\n",
       "      <td>0</td>\n",
       "      <td>206500</td>\n",
       "      <td>4.05</td>\n",
       "      <td>0.44</td>\n",
       "      <td>3225.00</td>\n",
       "      <td>360.00</td>\n",
       "      <td>...</td>\n",
       "      <td>0.00</td>\n",
       "      <td>0.00</td>\n",
       "      <td>1.00</td>\n",
       "      <td>0.00</td>\n",
       "      <td>0.00</td>\n",
       "      <td>0.00</td>\n",
       "      <td>1.00</td>\n",
       "      <td>0.00</td>\n",
       "      <td>0.00</td>\n",
       "      <td>0.00</td>\n",
       "    </tr>\n",
       "    <tr>\n",
       "      <th>2</th>\n",
       "      <td>0</td>\n",
       "      <td>1</td>\n",
       "      <td>0</td>\n",
       "      <td>0</td>\n",
       "      <td>1</td>\n",
       "      <td>406500</td>\n",
       "      <td>4.56</td>\n",
       "      <td>0.20</td>\n",
       "      <td>595.00</td>\n",
       "      <td>360.00</td>\n",
       "      <td>...</td>\n",
       "      <td>1.00</td>\n",
       "      <td>0.00</td>\n",
       "      <td>0.00</td>\n",
       "      <td>0.00</td>\n",
       "      <td>0.00</td>\n",
       "      <td>0.00</td>\n",
       "      <td>0.00</td>\n",
       "      <td>0.00</td>\n",
       "      <td>0.00</td>\n",
       "      <td>1.00</td>\n",
       "    </tr>\n",
       "    <tr>\n",
       "      <th>3</th>\n",
       "      <td>0</td>\n",
       "      <td>0</td>\n",
       "      <td>0</td>\n",
       "      <td>0</td>\n",
       "      <td>1</td>\n",
       "      <td>456500</td>\n",
       "      <td>4.25</td>\n",
       "      <td>0.68</td>\n",
       "      <td>3225.00</td>\n",
       "      <td>360.00</td>\n",
       "      <td>...</td>\n",
       "      <td>0.00</td>\n",
       "      <td>1.00</td>\n",
       "      <td>0.00</td>\n",
       "      <td>0.00</td>\n",
       "      <td>0.00</td>\n",
       "      <td>0.00</td>\n",
       "      <td>1.00</td>\n",
       "      <td>0.00</td>\n",
       "      <td>0.00</td>\n",
       "      <td>0.00</td>\n",
       "    </tr>\n",
       "    <tr>\n",
       "      <th>4</th>\n",
       "      <td>0</td>\n",
       "      <td>1</td>\n",
       "      <td>0</td>\n",
       "      <td>0</td>\n",
       "      <td>1</td>\n",
       "      <td>696500</td>\n",
       "      <td>4.00</td>\n",
       "      <td>0.30</td>\n",
       "      <td>0.00</td>\n",
       "      <td>360.00</td>\n",
       "      <td>...</td>\n",
       "      <td>0.00</td>\n",
       "      <td>0.00</td>\n",
       "      <td>0.00</td>\n",
       "      <td>0.00</td>\n",
       "      <td>0.00</td>\n",
       "      <td>0.00</td>\n",
       "      <td>1.00</td>\n",
       "      <td>0.00</td>\n",
       "      <td>0.00</td>\n",
       "      <td>0.00</td>\n",
       "    </tr>\n",
       "    <tr>\n",
       "      <th>...</th>\n",
       "      <td>...</td>\n",
       "      <td>...</td>\n",
       "      <td>...</td>\n",
       "      <td>...</td>\n",
       "      <td>...</td>\n",
       "      <td>...</td>\n",
       "      <td>...</td>\n",
       "      <td>...</td>\n",
       "      <td>...</td>\n",
       "      <td>...</td>\n",
       "      <td>...</td>\n",
       "      <td>...</td>\n",
       "      <td>...</td>\n",
       "      <td>...</td>\n",
       "      <td>...</td>\n",
       "      <td>...</td>\n",
       "      <td>...</td>\n",
       "      <td>...</td>\n",
       "      <td>...</td>\n",
       "      <td>...</td>\n",
       "      <td>...</td>\n",
       "    </tr>\n",
       "    <tr>\n",
       "      <th>148665</th>\n",
       "      <td>0</td>\n",
       "      <td>0</td>\n",
       "      <td>0</td>\n",
       "      <td>0</td>\n",
       "      <td>1</td>\n",
       "      <td>436500</td>\n",
       "      <td>3.12</td>\n",
       "      <td>0.26</td>\n",
       "      <td>9960.00</td>\n",
       "      <td>180.00</td>\n",
       "      <td>...</td>\n",
       "      <td>0.00</td>\n",
       "      <td>0.00</td>\n",
       "      <td>1.00</td>\n",
       "      <td>0.00</td>\n",
       "      <td>0.00</td>\n",
       "      <td>0.00</td>\n",
       "      <td>0.00</td>\n",
       "      <td>0.00</td>\n",
       "      <td>0.00</td>\n",
       "      <td>1.00</td>\n",
       "    </tr>\n",
       "    <tr>\n",
       "      <th>148666</th>\n",
       "      <td>0</td>\n",
       "      <td>0</td>\n",
       "      <td>0</td>\n",
       "      <td>0</td>\n",
       "      <td>1</td>\n",
       "      <td>586500</td>\n",
       "      <td>5.19</td>\n",
       "      <td>0.85</td>\n",
       "      <td>0.00</td>\n",
       "      <td>360.00</td>\n",
       "      <td>...</td>\n",
       "      <td>0.00</td>\n",
       "      <td>0.00</td>\n",
       "      <td>0.00</td>\n",
       "      <td>0.00</td>\n",
       "      <td>0.00</td>\n",
       "      <td>0.00</td>\n",
       "      <td>0.00</td>\n",
       "      <td>0.00</td>\n",
       "      <td>0.00</td>\n",
       "      <td>1.00</td>\n",
       "    </tr>\n",
       "    <tr>\n",
       "      <th>148667</th>\n",
       "      <td>0</td>\n",
       "      <td>0</td>\n",
       "      <td>0</td>\n",
       "      <td>0</td>\n",
       "      <td>1</td>\n",
       "      <td>446500</td>\n",
       "      <td>3.12</td>\n",
       "      <td>0.08</td>\n",
       "      <td>1226.64</td>\n",
       "      <td>180.00</td>\n",
       "      <td>...</td>\n",
       "      <td>0.00</td>\n",
       "      <td>1.00</td>\n",
       "      <td>0.00</td>\n",
       "      <td>0.00</td>\n",
       "      <td>0.00</td>\n",
       "      <td>0.00</td>\n",
       "      <td>1.00</td>\n",
       "      <td>0.00</td>\n",
       "      <td>0.00</td>\n",
       "      <td>0.00</td>\n",
       "    </tr>\n",
       "    <tr>\n",
       "      <th>148668</th>\n",
       "      <td>0</td>\n",
       "      <td>0</td>\n",
       "      <td>0</td>\n",
       "      <td>0</td>\n",
       "      <td>1</td>\n",
       "      <td>196500</td>\n",
       "      <td>3.50</td>\n",
       "      <td>0.58</td>\n",
       "      <td>4323.33</td>\n",
       "      <td>180.00</td>\n",
       "      <td>...</td>\n",
       "      <td>0.00</td>\n",
       "      <td>0.00</td>\n",
       "      <td>1.00</td>\n",
       "      <td>0.00</td>\n",
       "      <td>0.00</td>\n",
       "      <td>0.00</td>\n",
       "      <td>1.00</td>\n",
       "      <td>0.00</td>\n",
       "      <td>0.00</td>\n",
       "      <td>0.00</td>\n",
       "    </tr>\n",
       "    <tr>\n",
       "      <th>148669</th>\n",
       "      <td>0</td>\n",
       "      <td>0</td>\n",
       "      <td>0</td>\n",
       "      <td>0</td>\n",
       "      <td>1</td>\n",
       "      <td>406500</td>\n",
       "      <td>4.38</td>\n",
       "      <td>1.39</td>\n",
       "      <td>6000.00</td>\n",
       "      <td>240.00</td>\n",
       "      <td>...</td>\n",
       "      <td>0.00</td>\n",
       "      <td>1.00</td>\n",
       "      <td>0.00</td>\n",
       "      <td>0.00</td>\n",
       "      <td>0.00</td>\n",
       "      <td>0.00</td>\n",
       "      <td>1.00</td>\n",
       "      <td>0.00</td>\n",
       "      <td>0.00</td>\n",
       "      <td>0.00</td>\n",
       "    </tr>\n",
       "  </tbody>\n",
       "</table>\n",
       "<p>148670 rows × 57 columns</p>\n",
       "</div>"
      ],
      "text/plain": [
       "        loan_limit  approv_in_adv  credit_worthiness  open_credit  \\\n",
       "0                0              0                  0            0   \n",
       "1                0              0                  0            0   \n",
       "2                0              1                  0            0   \n",
       "3                0              0                  0            0   \n",
       "4                0              1                  0            0   \n",
       "...            ...            ...                ...          ...   \n",
       "148665           0              0                  0            0   \n",
       "148666           0              0                  0            0   \n",
       "148667           0              0                  0            0   \n",
       "148668           0              0                  0            0   \n",
       "148669           0              0                  0            0   \n",
       "\n",
       "        business_or_commercial  loan_amount  rate_of_interest  \\\n",
       "0                            1       116500              4.05   \n",
       "1                            0       206500              4.05   \n",
       "2                            1       406500              4.56   \n",
       "3                            1       456500              4.25   \n",
       "4                            1       696500              4.00   \n",
       "...                        ...          ...               ...   \n",
       "148665                       1       436500              3.12   \n",
       "148666                       1       586500              5.19   \n",
       "148667                       1       446500              3.12   \n",
       "148668                       1       196500              3.50   \n",
       "148669                       1       406500              4.38   \n",
       "\n",
       "        interest_rate_spread  upfront_charges   term  ...  age_35-44  \\\n",
       "0                       0.44          3225.00 360.00  ...       0.00   \n",
       "1                       0.44          3225.00 360.00  ...       0.00   \n",
       "2                       0.20           595.00 360.00  ...       1.00   \n",
       "3                       0.68          3225.00 360.00  ...       0.00   \n",
       "4                       0.30             0.00 360.00  ...       0.00   \n",
       "...                      ...              ...    ...  ...        ...   \n",
       "148665                  0.26          9960.00 180.00  ...       0.00   \n",
       "148666                  0.85             0.00 360.00  ...       0.00   \n",
       "148667                  0.08          1226.64 180.00  ...       0.00   \n",
       "148668                  0.58          4323.33 180.00  ...       0.00   \n",
       "148669                  1.39          6000.00 240.00  ...       0.00   \n",
       "\n",
       "        age_45-54  age_55-64  age_65-74  under_25  over_74  North  North-East  \\\n",
       "0            0.00       0.00       0.00      0.00     0.00   0.00        0.00   \n",
       "1            0.00       1.00       0.00      0.00     0.00   1.00        0.00   \n",
       "2            0.00       0.00       0.00      0.00     0.00   0.00        0.00   \n",
       "3            1.00       0.00       0.00      0.00     0.00   1.00        0.00   \n",
       "4            0.00       0.00       0.00      0.00     0.00   1.00        0.00   \n",
       "...           ...        ...        ...       ...      ...    ...         ...   \n",
       "148665       0.00       1.00       0.00      0.00     0.00   0.00        0.00   \n",
       "148666       0.00       0.00       0.00      0.00     0.00   0.00        0.00   \n",
       "148667       1.00       0.00       0.00      0.00     0.00   1.00        0.00   \n",
       "148668       0.00       1.00       0.00      0.00     0.00   1.00        0.00   \n",
       "148669       1.00       0.00       0.00      0.00     0.00   1.00        0.00   \n",
       "\n",
       "        central  south  \n",
       "0          0.00   1.00  \n",
       "1          0.00   0.00  \n",
       "2          0.00   1.00  \n",
       "3          0.00   0.00  \n",
       "4          0.00   0.00  \n",
       "...         ...    ...  \n",
       "148665     0.00   1.00  \n",
       "148666     0.00   1.00  \n",
       "148667     0.00   0.00  \n",
       "148668     0.00   0.00  \n",
       "148669     0.00   0.00  \n",
       "\n",
       "[148670 rows x 57 columns]"
      ]
     },
     "execution_count": 3,
     "metadata": {},
     "output_type": "execute_result"
    }
   ],
   "source": [
    "df"
   ]
  },
  {
   "cell_type": "markdown",
   "id": "7e691b86",
   "metadata": {},
   "source": [
    "## Dimension Reduction"
   ]
  },
  {
   "cell_type": "markdown",
   "id": "d698e40b",
   "metadata": {},
   "source": [
    "### Method 1 : PCA"
   ]
  },
  {
   "cell_type": "code",
   "execution_count": 4,
   "id": "1f615700",
   "metadata": {},
   "outputs": [],
   "source": [
    "# X = df.drop('status', axis=1)\n",
    "# y = df['status']\n",
    "\n",
    "# # Standardize features\n",
    "# scaler = StandardScaler()\n",
    "# X_norm = scaler.fit_transform(X)\n",
    "\n",
    "# # Apply PCA\n",
    "# pca = PCA(n_components=None)\n",
    "# pca.fit(X_norm)\n",
    "\n",
    "# # Print eigenvalues and explained variances\n",
    "# print(\"Eigenvalues:\")\n",
    "# print(pca.explained_variance_)\n",
    "# print()\n",
    "\n",
    "# print(\"Explained variances (percentage):\")\n",
    "# print(pca.explained_variance_ratio_ * 100)\n",
    "# print()\n",
    "\n",
    "# # Make scree plot\n",
    "# plt.plot(pca.explained_variance_ratio_ * 100, 'o-')\n",
    "# plt.xlabel(\"Number of components (Dimensions)\")\n",
    "# plt.ylabel(\"Explained variance (%)\")\n",
    "# plt.title(\"Scree Plot\")\n",
    "# plt.show()\n",
    "\n",
    "# # Determine number of principal components to retain\n",
    "# num_components = np.sum(pca.explained_variance_ > 1)\n",
    "# print(\"Number of principal components to retain based on Kaiser's criterion:\", num_components)"
   ]
  },
  {
   "cell_type": "markdown",
   "id": "5b020ced",
   "metadata": {
    "id": "5b020ced"
   },
   "source": [
    "### Method 2: PCA using SVD (Chose this) "
   ]
  },
  {
   "cell_type": "code",
   "execution_count": 5,
   "id": "199f5f4d",
   "metadata": {
    "colab": {
     "base_uri": "https://localhost:8080/",
     "height": 484
    },
    "executionInfo": {
     "elapsed": 429,
     "status": "ok",
     "timestamp": 1681470343846,
     "user": {
      "displayName": "YIP YI MUN _",
      "userId": "16901285140938076480"
     },
     "user_tz": -480
    },
    "id": "199f5f4d",
    "outputId": "1833396d-a41f-4413-e150-396454d5d58c"
   },
   "outputs": [
    {
     "data": {
      "image/png": "[encoded data removed]",
      "text/plain": [
       "<Figure size 640x480 with 1 Axes>"
      ]
     },
     "metadata": {},
     "output_type": "display_data"
    },
    {
     "name": "stdout",
     "output_type": "stream",
     "text": [
      "\n",
      "The smallest number of principal components such that the cumulative explained variance is at least 0.85: 23\n"
     ]
    }
   ],
   "source": [
    "# Using SVD to compute the principal components of a dataset \n",
    "\n",
    "X = df.drop('status', axis=1)\n",
    "y = df['status']\n",
    "\n",
    "# Standardize the data\n",
    "scaler = StandardScaler()\n",
    "X_norm = scaler.fit_transform(X)\n",
    "\n",
    "# Compute the covariance matrix (a matrix that summarizes the covariances between pairs of variables - e.g. if two variables increase or decrease together.then they have a positive covariance)\n",
    "covariance_matrix = np.cov(X_norm, rowvar=False)\n",
    "\n",
    "# Compute the SVD (decomposes a matrix into three matrices)\n",
    "# U - These vectors are the directions that capture the maximum amount of variance in the data \n",
    "# Sigma - These values represent the amount of variance captured by each principal components\n",
    "# Vt - These vectors also represent the directions in the data space \n",
    "# These matrices can be used to calculate the principal components \n",
    "U, Sigma, Vt = np.linalg.svd(covariance_matrix)\n",
    "\n",
    "# Compute the cumulative explained variance\n",
    "explained_variance_ratio = Sigma ** 2 / np.sum(Sigma ** 2)\n",
    "cumulative_explained_variance_ratio = np.cumsum(explained_variance_ratio)\n",
    "\n",
    "# Select the smallest k such that the cumulative explained variance is at least 0.85\n",
    "k = np.argmax(cumulative_explained_variance_ratio >= 0.85) + 1\n",
    "\n",
    "# Plot the explained variance ratio and cumulative explained variance ratio\n",
    "plt.plot(explained_variance_ratio*100, label='Explained Variance Ratio')\n",
    "plt.plot(cumulative_explained_variance_ratio*100, label='Cumulative Explained Variance Ratio')\n",
    "plt.axvline(x=k, linestyle='--', color='r', label='Selected k')\n",
    "plt.xlabel('Principal Component')\n",
    "plt.ylabel('Explained Variance Ratio (%)')\n",
    "plt.legend()\n",
    "plt.show()\n",
    "\n",
    "print(\"\\nThe smallest number of principal components such that the cumulative explained variance is at least 0.85:\", k)"
   ]
  },
  {
   "cell_type": "code",
   "execution_count": 6,
   "id": "c3c8d67c",
   "metadata": {
    "id": "c3c8d67c"
   },
   "outputs": [],
   "source": [
    "# Perform PCA\n",
    "\n",
    "# Fit PCA with chosen number of components\n",
    "pca = PCA(n_components=k)\n",
    "X_pca = pca.fit_transform(X_norm)"
   ]
  },
  {
   "cell_type": "markdown",
   "id": "e67ae47e",
   "metadata": {
    "id": "e67ae47e"
   },
   "source": [
    "## Train-Test Split"
   ]
  },
  {
   "cell_type": "code",
   "execution_count": 7,
   "id": "a96706a6",
   "metadata": {
    "id": "a96706a6"
   },
   "outputs": [],
   "source": [
    "# Split data into training and test sets\n",
    "X_train_norm, X_test_norm, y_train, y_test = train_test_split(X_pca, y, test_size=0.2, random_state=42)"
   ]
  },
  {
   "cell_type": "markdown",
   "id": "b5b109a6",
   "metadata": {
    "id": "b5b109a6"
   },
   "source": [
    "## Logistic Regression"
   ]
  },
  {
   "cell_type": "code",
   "execution_count": 7,
   "id": "12587f77",
   "metadata": {
    "colab": {
     "base_uri": "https://localhost:8080/",
     "height": 363
    },
    "executionInfo": {
     "elapsed": 8,
     "status": "ok",
     "timestamp": 1681470355695,
     "user": {
      "displayName": "YIP YI MUN _",
      "userId": "16901285140938076480"
     },
     "user_tz": -480
    },
    "id": "12587f77",
    "outputId": "03f1790c-b37a-4a98-f7db-4bfc2ba8956b"
   },
   "outputs": [
    {
     "data": {
      "text/html": [
       "<div>\n",
       "<style scoped>\n",
       "    .dataframe tbody tr th:only-of-type {\n",
       "        vertical-align: middle;\n",
       "    }\n",
       "\n",
       "    .dataframe tbody tr th {\n",
       "        vertical-align: top;\n",
       "    }\n",
       "\n",
       "    .dataframe thead th {\n",
       "        text-align: right;\n",
       "    }\n",
       "</style>\n",
       "<table border=\"1\" class=\"dataframe\">\n",
       "  <thead>\n",
       "    <tr style=\"text-align: right;\">\n",
       "      <th></th>\n",
       "      <th>Actual</th>\n",
       "      <th>Predicted</th>\n",
       "    </tr>\n",
       "  </thead>\n",
       "  <tbody>\n",
       "    <tr>\n",
       "      <th>30922</th>\n",
       "      <td>0</td>\n",
       "      <td>0</td>\n",
       "    </tr>\n",
       "    <tr>\n",
       "      <th>107209</th>\n",
       "      <td>0</td>\n",
       "      <td>0</td>\n",
       "    </tr>\n",
       "    <tr>\n",
       "      <th>73799</th>\n",
       "      <td>0</td>\n",
       "      <td>0</td>\n",
       "    </tr>\n",
       "    <tr>\n",
       "      <th>142036</th>\n",
       "      <td>1</td>\n",
       "      <td>0</td>\n",
       "    </tr>\n",
       "    <tr>\n",
       "      <th>81194</th>\n",
       "      <td>0</td>\n",
       "      <td>0</td>\n",
       "    </tr>\n",
       "    <tr>\n",
       "      <th>68658</th>\n",
       "      <td>0</td>\n",
       "      <td>0</td>\n",
       "    </tr>\n",
       "    <tr>\n",
       "      <th>47504</th>\n",
       "      <td>0</td>\n",
       "      <td>0</td>\n",
       "    </tr>\n",
       "    <tr>\n",
       "      <th>6940</th>\n",
       "      <td>0</td>\n",
       "      <td>0</td>\n",
       "    </tr>\n",
       "    <tr>\n",
       "      <th>134514</th>\n",
       "      <td>0</td>\n",
       "      <td>0</td>\n",
       "    </tr>\n",
       "    <tr>\n",
       "      <th>97203</th>\n",
       "      <td>0</td>\n",
       "      <td>0</td>\n",
       "    </tr>\n",
       "  </tbody>\n",
       "</table>\n",
       "</div>"
      ],
      "text/plain": [
       "        Actual  Predicted\n",
       "30922        0          0\n",
       "107209       0          0\n",
       "73799        0          0\n",
       "142036       1          0\n",
       "81194        0          0\n",
       "68658        0          0\n",
       "47504        0          0\n",
       "6940         0          0\n",
       "134514       0          0\n",
       "97203        0          0"
      ]
     },
     "execution_count": 7,
     "metadata": {},
     "output_type": "execute_result"
    }
   ],
   "source": [
    "logreg = LogisticRegression(random_state=42)\n",
    "logreg.fit(X_train_norm, y_train)\n",
    "\n",
    "y_pred = logreg.predict(X_test_norm)\n",
    "\n",
    "results_df = pd.DataFrame({'Actual': y_test, 'Predicted': y_pred})\n",
    "results_df.sample(10)"
   ]
  },
  {
   "cell_type": "code",
   "execution_count": 8,
   "id": "35b03441",
   "metadata": {
    "colab": {
     "base_uri": "https://localhost:8080/",
     "height": 761
    },
    "executionInfo": {
     "elapsed": 769,
     "status": "ok",
     "timestamp": 1681470359242,
     "user": {
      "displayName": "YIP YI MUN _",
      "userId": "16901285140938076480"
     },
     "user_tz": -480
    },
    "id": "35b03441",
    "outputId": "86251744-3b17-4322-952f-6767ec6bdfbd"
   },
   "outputs": [
    {
     "name": "stdout",
     "output_type": "stream",
     "text": [
      "Classification Report: \n",
      "              precision    recall  f1-score   support\n",
      "\n",
      "           0       0.85      0.99      0.91     22494\n",
      "           1       0.91      0.47      0.62      7240\n",
      "\n",
      "    accuracy                           0.86     29734\n",
      "   macro avg       0.88      0.73      0.77     29734\n",
      "weighted avg       0.87      0.86      0.84     29734\n",
      "\n",
      "Confusion Matrix: \n",
      "[[22163   331]\n",
      " [ 3852  3388]]\n",
      "Accuracy:  0.8593192977735925\n",
      "Precision:  0.9109975799946222\n",
      "Recall:  0.46795580110497237\n",
      "F1:  0.6183045898348388\n",
      "Time taken:  0:00:10.931453\n"
     ]
    },
    {
     "data": {
      "image/png": "[encoded data removed]",
      "text/plain": [
       "<Figure size 432x288 with 1 Axes>"
      ]
     },
     "metadata": {
      "needs_background": "light"
     },
     "output_type": "display_data"
    }
   ],
   "source": [
    "matrix = confusion_matrix(y_test,y_pred)\n",
    "\n",
    "labels = [0, 1]\n",
    "\n",
    "sns.heatmap(matrix, square=True, annot=True, fmt='d', cbar=False, cmap='Blues',\n",
    "            xticklabels=labels, yticklabels=labels)\n",
    "\n",
    "plt.xlabel('Predicted label')\n",
    "plt.ylabel('Actual label')\n",
    "\n",
    "report = classification_report(y_test,y_pred)\n",
    "accuracy = accuracy_score(y_test,y_pred)\n",
    "precision = precision_score(y_test,y_pred)\n",
    "recall = recall_score(y_test,y_pred)\n",
    "f1 = f1_score(y_test,y_pred)\n",
    "\n",
    "print(\"Classification Report: \")\n",
    "print(report)\n",
    "\n",
    "print(\"Confusion Matrix: \")\n",
    "print(matrix)\n",
    "\n",
    "print(\"Accuracy: \", accuracy)\n",
    "print(\"Precision: \",precision)\n",
    "print(\"Recall: \",recall)\n",
    "print(\"F1: \",f1)\n",
    "print('Time taken: ', datetime.now()-start)"
   ]
  },
  {
   "cell_type": "markdown",
   "id": "Ij-aVlefXeLo",
   "metadata": {
    "id": "Ij-aVlefXeLo"
   },
   "source": [
    "### Evaluation Performance "
   ]
  },
  {
   "cell_type": "code",
   "execution_count": 9,
   "id": "4r4dKKhYXcpx",
   "metadata": {
    "colab": {
     "base_uri": "https://localhost:8080/"
    },
    "executionInfo": {
     "elapsed": 473,
     "status": "ok",
     "timestamp": 1681470362931,
     "user": {
      "displayName": "YIP YI MUN _",
      "userId": "16901285140938076480"
     },
     "user_tz": -480
    },
    "id": "4r4dKKhYXcpx",
    "outputId": "5266cc21-21dc-4dc8-fffe-607c42cc1535"
   },
   "outputs": [
    {
     "name": "stdout",
     "output_type": "stream",
     "text": [
      "Training accuracy:  0.858327167552297\n",
      "Training precision:  0.9091620476035214\n",
      "Training recall:  0.47423381747678495\n",
      "Training f1:  0.6233290114901419\n",
      "Test accuracy:  0.8593192977735925\n",
      "Test precision:  0.9109975799946222\n",
      "Test recall:  0.46795580110497237\n",
      "Test f1:  0.6183045898348388\n"
     ]
    }
   ],
   "source": [
    "# Evaluate performance on the training set\n",
    "y_train_pred = logreg.predict(X_train_norm)\n",
    "train_acc = accuracy_score(y_train, y_train_pred)\n",
    "train_prec = precision_score(y_train, y_train_pred)\n",
    "train_rec = recall_score(y_train, y_train_pred)\n",
    "train_f1 = f1_score(y_train, y_train_pred)\n",
    "\n",
    "# Evaluate performance on the test set\n",
    "y_test_pred = logreg.predict(X_test_norm)\n",
    "test_acc = accuracy_score(y_test, y_test_pred)\n",
    "test_prec = precision_score(y_test, y_test_pred)\n",
    "test_rec = recall_score(y_test, y_test_pred)\n",
    "test_f1 = f1_score(y_test, y_test_pred)\n",
    "\n",
    "# Print the performance metrics\n",
    "print(\"Training accuracy: \", train_acc)\n",
    "print(\"Training precision: \", train_prec)\n",
    "print(\"Training recall: \", train_rec)\n",
    "print(\"Training f1: \", train_f1)\n",
    "print(\"Test accuracy: \", test_acc)\n",
    "print(\"Test precision: \", test_prec)\n",
    "print(\"Test recall: \", test_rec)\n",
    "print(\"Test f1: \", test_f1)"
   ]
  },
  {
   "cell_type": "markdown",
   "id": "BsZ-Jw5tSlLM",
   "metadata": {
    "id": "BsZ-Jw5tSlLM"
   },
   "source": [
    "# Logistic Regression (GridSearchCV)"
   ]
  },
  {
   "cell_type": "code",
   "execution_count": 10,
   "id": "L18yhFtCSk6k",
   "metadata": {
    "colab": {
     "base_uri": "https://localhost:8080/",
     "height": 727
    },
    "executionInfo": {
     "elapsed": 4390,
     "status": "ok",
     "timestamp": 1681470370299,
     "user": {
      "displayName": "YIP YI MUN _",
      "userId": "16901285140938076480"
     },
     "user_tz": -480
    },
    "id": "L18yhFtCSk6k",
    "outputId": "8114bf83-3793-4dcd-9b04-39422f89971b"
   },
   "outputs": [
    {
     "name": "stdout",
     "output_type": "stream",
     "text": [
      "Classification Report (GridSearchCV): \n",
      "              precision    recall  f1-score   support\n",
      "\n",
      "           0       0.85      0.99      0.91     22494\n",
      "           1       0.92      0.47      0.62      7240\n",
      "\n",
      "    accuracy                           0.86     29734\n",
      "   macro avg       0.89      0.73      0.77     29734\n",
      "weighted avg       0.87      0.86      0.84     29734\n",
      "\n",
      "Best hyperparameters:  {'C': 0.001, 'penalty': 'l2'}\n",
      "Accuracy:  0.8600255599650232\n",
      "Precision:  0.9207217058501913\n",
      "Recall:  0.46519337016574586\n",
      "F1:  0.6180950633143696\n",
      "Time taken:  0:00:13.308848\n"
     ]
    },
    {
     "data": {
      "image/png": "[encoded data removed]",
      "text/plain": [
       "<Figure size 432x288 with 1 Axes>"
      ]
     },
     "metadata": {
      "needs_background": "light"
     },
     "output_type": "display_data"
    }
   ],
   "source": [
    "from sklearn.model_selection import train_test_split, GridSearchCV\n",
    "from sklearn.metrics import f1_score, accuracy_score\n",
    "#For Logisitic Regression implementation\n",
    "from sklearn.linear_model import LogisticRegression\n",
    "\n",
    "logistic_regression = LogisticRegression()\n",
    "\n",
    "param_grid = {\n",
    "    'C': [0.001, 0.01, 0.1, 1, 10, 100],\n",
    "    'penalty': ['l1', 'l2']\n",
    "}\n",
    "\n",
    "clf = GridSearchCV(logistic_regression, param_grid=param_grid, scoring=\"accuracy\", cv=3)\n",
    "\n",
    "clf.fit(X_train_norm, y_train)\n",
    "\n",
    "y_pred = clf.predict(X_test_norm)\n",
    "\n",
    "matrix = confusion_matrix(y_test,y_pred)\n",
    "\n",
    "labels = [0, 1]\n",
    "\n",
    "sns.heatmap(matrix, square=True, annot=True, fmt='d', cbar=False, cmap='Blues',\n",
    "            xticklabels=labels, yticklabels=labels)\n",
    "\n",
    "plt.xlabel('Predicted label')\n",
    "plt.ylabel('Actual label')\n",
    "\n",
    "report = classification_report(y_test,y_pred)\n",
    "accuracy = accuracy_score(y_test,y_pred)\n",
    "precision = precision_score(y_test,y_pred)\n",
    "recall = recall_score(y_test,y_pred)\n",
    "f1 = f1_score(y_test,y_pred)\n",
    "\n",
    "print(\"Classification Report (GridSearchCV): \")\n",
    "print(report)\n",
    "\n",
    "print(\"Best hyperparameters: \", clf.best_params_)\n",
    "\n",
    "print(\"Accuracy: \", accuracy)\n",
    "print(\"Precision: \",precision)\n",
    "print(\"Recall: \",recall)\n",
    "print(\"F1: \",f1)\n",
    "print('Time taken: ', datetime.now()-start)\n"
   ]
  },
  {
   "cell_type": "markdown",
   "id": "W6guQKYnX76_",
   "metadata": {
    "id": "W6guQKYnX76_"
   },
   "source": [
    "### Evaluate Peformance (GridSearchCV)"
   ]
  },
  {
   "cell_type": "code",
   "execution_count": 11,
   "id": "1W9WBkI0X9kO",
   "metadata": {
    "colab": {
     "base_uri": "https://localhost:8080/"
    },
    "executionInfo": {
     "elapsed": 14,
     "status": "ok",
     "timestamp": 1681470370300,
     "user": {
      "displayName": "YIP YI MUN _",
      "userId": "16901285140938076480"
     },
     "user_tz": -480
    },
    "id": "1W9WBkI0X9kO",
    "outputId": "314e72ae-2034-4339-d838-cf5ac0138607"
   },
   "outputs": [
    {
     "name": "stdout",
     "output_type": "stream",
     "text": [
      "Training accuracy:  0.8587307459474003\n",
      "Training precision:  0.9164297520661157\n",
      "Training recall:  0.47147862172182725\n",
      "Training f1:  0.6226304914203575\n",
      "Test accuracy:  0.8600255599650232\n",
      "Test precision:  0.9207217058501913\n",
      "Test recall:  0.46519337016574586\n",
      "Test f1:  0.6180950633143696\n"
     ]
    }
   ],
   "source": [
    "# Evaluate performance on the training set\n",
    "y_train_pred = clf.predict(X_train_norm)\n",
    "train_acc = accuracy_score(y_train, y_train_pred)\n",
    "train_prec = precision_score(y_train, y_train_pred)\n",
    "train_rec = recall_score(y_train, y_train_pred)\n",
    "train_f1 = f1_score(y_train, y_train_pred)\n",
    "\n",
    "# Evaluate performance on the test set\n",
    "y_test_pred = clf.predict(X_test_norm)\n",
    "test_acc = accuracy_score(y_test, y_test_pred)\n",
    "test_prec = precision_score(y_test, y_test_pred)\n",
    "test_rec = recall_score(y_test, y_test_pred)\n",
    "test_f1 = f1_score(y_test, y_test_pred)\n",
    "\n",
    "# Print the performance metrics\n",
    "print(\"Training accuracy: \", train_acc)\n",
    "print(\"Training precision: \", train_prec)\n",
    "print(\"Training recall: \", train_rec)\n",
    "print(\"Training f1: \", train_f1)\n",
    "print(\"Test accuracy: \", test_acc)\n",
    "print(\"Test precision: \", test_prec)\n",
    "print(\"Test recall: \", test_rec)\n",
    "print(\"Test f1: \", test_f1)"
   ]
  },
  {
   "cell_type": "markdown",
   "id": "7993dc7d",
   "metadata": {
    "id": "7993dc7d"
   },
   "source": [
    "## Naive Bayes"
   ]
  },
  {
   "cell_type": "code",
   "execution_count": 12,
   "id": "4bb7127a",
   "metadata": {
    "colab": {
     "base_uri": "https://localhost:8080/",
     "height": 363
    },
    "executionInfo": {
     "elapsed": 23,
     "status": "ok",
     "timestamp": 1679492428179,
     "user": {
      "displayName": "YIP YI MUN _",
      "userId": "16901285140938076480"
     },
     "user_tz": -480
    },
    "id": "4bb7127a",
    "outputId": "1df62a40-eaf8-4b77-c9ad-53392f1759f9"
   },
   "outputs": [
    {
     "data": {
      "text/html": [
       "<div>\n",
       "<style scoped>\n",
       "    .dataframe tbody tr th:only-of-type {\n",
       "        vertical-align: middle;\n",
       "    }\n",
       "\n",
       "    .dataframe tbody tr th {\n",
       "        vertical-align: top;\n",
       "    }\n",
       "\n",
       "    .dataframe thead th {\n",
       "        text-align: right;\n",
       "    }\n",
       "</style>\n",
       "<table border=\"1\" class=\"dataframe\">\n",
       "  <thead>\n",
       "    <tr style=\"text-align: right;\">\n",
       "      <th></th>\n",
       "      <th>Actual</th>\n",
       "      <th>Predicted</th>\n",
       "    </tr>\n",
       "  </thead>\n",
       "  <tbody>\n",
       "    <tr>\n",
       "      <th>61935</th>\n",
       "      <td>0</td>\n",
       "      <td>0</td>\n",
       "    </tr>\n",
       "    <tr>\n",
       "      <th>56629</th>\n",
       "      <td>0</td>\n",
       "      <td>0</td>\n",
       "    </tr>\n",
       "    <tr>\n",
       "      <th>57767</th>\n",
       "      <td>1</td>\n",
       "      <td>1</td>\n",
       "    </tr>\n",
       "    <tr>\n",
       "      <th>13723</th>\n",
       "      <td>1</td>\n",
       "      <td>0</td>\n",
       "    </tr>\n",
       "    <tr>\n",
       "      <th>60907</th>\n",
       "      <td>0</td>\n",
       "      <td>0</td>\n",
       "    </tr>\n",
       "    <tr>\n",
       "      <th>131589</th>\n",
       "      <td>0</td>\n",
       "      <td>0</td>\n",
       "    </tr>\n",
       "    <tr>\n",
       "      <th>67718</th>\n",
       "      <td>0</td>\n",
       "      <td>0</td>\n",
       "    </tr>\n",
       "    <tr>\n",
       "      <th>24283</th>\n",
       "      <td>1</td>\n",
       "      <td>1</td>\n",
       "    </tr>\n",
       "    <tr>\n",
       "      <th>8683</th>\n",
       "      <td>0</td>\n",
       "      <td>0</td>\n",
       "    </tr>\n",
       "    <tr>\n",
       "      <th>133091</th>\n",
       "      <td>0</td>\n",
       "      <td>0</td>\n",
       "    </tr>\n",
       "  </tbody>\n",
       "</table>\n",
       "</div>"
      ],
      "text/plain": [
       "        Actual  Predicted\n",
       "61935        0          0\n",
       "56629        0          0\n",
       "57767        1          1\n",
       "13723        1          0\n",
       "60907        0          0\n",
       "131589       0          0\n",
       "67718        0          0\n",
       "24283        1          1\n",
       "8683         0          0\n",
       "133091       0          0"
      ]
     },
     "execution_count": 12,
     "metadata": {},
     "output_type": "execute_result"
    }
   ],
   "source": [
    "naive_bayes = GaussianNB()\n",
    "naive_bayes.fit(X_train_norm , y_train)\n",
    "\n",
    "#Use the trained model to predict the test data\n",
    "y_pred = naive_bayes.predict(X_test_norm)\n",
    "\n",
    "results_df = pd.DataFrame({'Actual': y_test, 'Predicted': y_pred})\n",
    "results_df.sample(10)"
   ]
  },
  {
   "cell_type": "code",
   "execution_count": 13,
   "id": "300a15ba",
   "metadata": {
    "colab": {
     "base_uri": "https://localhost:8080/"
    },
    "executionInfo": {
     "elapsed": 21,
     "status": "ok",
     "timestamp": 1679492430848,
     "user": {
      "displayName": "YIP YI MUN _",
      "userId": "16901285140938076480"
     },
     "user_tz": -480
    },
    "id": "300a15ba",
    "outputId": "6fde83e4-23fd-4210-bfaa-73cff937dcb6"
   },
   "outputs": [
    {
     "name": "stdout",
     "output_type": "stream",
     "text": [
      "Classification Report: \n",
      "              precision    recall  f1-score   support\n",
      "\n",
      "           0       0.84      0.94      0.89     22494\n",
      "           1       0.71      0.44      0.55      7240\n",
      "\n",
      "    accuracy                           0.82     29734\n",
      "   macro avg       0.78      0.69      0.72     29734\n",
      "weighted avg       0.81      0.82      0.81     29734\n",
      "\n",
      "Confusion Matrix: \n",
      "[[21189  1305]\n",
      " [ 4026  3214]]\n",
      "Accuracy:  0.8207102979753818\n",
      "Precision:  0.7112192963044921\n",
      "Recall:  0.4439226519337017\n",
      "F1:  0.5466451228845991\n",
      "Time taken:  0:00:13.711079\n"
     ]
    },
    {
     "data": {
      "image/png": "[encoded data removed]",
      "text/plain": [
       "<Figure size 432x288 with 1 Axes>"
      ]
     },
     "metadata": {
      "needs_background": "light"
     },
     "output_type": "display_data"
    }
   ],
   "source": [
    "matrix = confusion_matrix(y_test,y_pred)\n",
    "\n",
    "labels = [0, 1]\n",
    "\n",
    "sns.heatmap(matrix, square=True, annot=True, fmt='d', cbar=False, cmap='Blues',\n",
    "            xticklabels=labels, yticklabels=labels)\n",
    "\n",
    "plt.xlabel('Predicted label')\n",
    "plt.ylabel('Actual label')\n",
    "\n",
    "report = classification_report(y_test,y_pred)\n",
    "accuracy = accuracy_score(y_test,y_pred)\n",
    "precision = precision_score(y_test,y_pred)\n",
    "recall = recall_score(y_test,y_pred)\n",
    "f1 = f1_score(y_test,y_pred)\n",
    "\n",
    "print(\"Classification Report: \")\n",
    "print(report)\n",
    "\n",
    "print(\"Confusion Matrix: \")\n",
    "print(matrix)\n",
    "\n",
    "print(\"Accuracy: \", accuracy)\n",
    "print(\"Precision: \",precision)\n",
    "print(\"Recall: \",recall)\n",
    "print(\"F1: \",f1)\n",
    "print('Time taken: ', datetime.now()-start)"
   ]
  },
  {
   "cell_type": "markdown",
   "id": "g-8vSvAy--pp",
   "metadata": {
    "id": "g-8vSvAy--pp"
   },
   "source": [
    "### Evaluate Peformance"
   ]
  },
  {
   "cell_type": "code",
   "execution_count": 14,
   "id": "mX1lA9Sv--1B",
   "metadata": {
    "id": "mX1lA9Sv--1B"
   },
   "outputs": [
    {
     "name": "stdout",
     "output_type": "stream",
     "text": [
      "Training accuracy:  0.8212399946189547\n",
      "Training precision:  0.7224956255468067\n",
      "Training recall:  0.4494370556821661\n",
      "Training f1:  0.554155220500346\n",
      "Test accuracy:  0.8207102979753818\n",
      "Test precision:  0.7112192963044921\n",
      "Test recall:  0.4439226519337017\n",
      "Test f1:  0.5466451228845991\n"
     ]
    }
   ],
   "source": [
    "# Evaluate performance on the training set\n",
    "y_train_pred = naive_bayes.predict(X_train_norm)\n",
    "train_acc = accuracy_score(y_train, y_train_pred)\n",
    "train_prec = precision_score(y_train, y_train_pred)\n",
    "train_rec = recall_score(y_train, y_train_pred)\n",
    "train_f1 = f1_score(y_train, y_train_pred)\n",
    "\n",
    "# Evaluate performance on the test set\n",
    "y_test_pred = naive_bayes.predict(X_test_norm)\n",
    "test_acc = accuracy_score(y_test, y_test_pred)\n",
    "test_prec = precision_score(y_test, y_test_pred)\n",
    "test_rec = recall_score(y_test, y_test_pred)\n",
    "test_f1 = f1_score(y_test, y_test_pred)\n",
    "\n",
    "# Print the performance metrics\n",
    "print(\"Training accuracy: \", train_acc)\n",
    "print(\"Training precision: \", train_prec)\n",
    "print(\"Training recall: \", train_rec)\n",
    "print(\"Training f1: \", train_f1)\n",
    "print(\"Test accuracy: \", test_acc)\n",
    "print(\"Test precision: \", test_prec)\n",
    "print(\"Test recall: \", test_rec)\n",
    "print(\"Test f1: \", test_f1)"
   ]
  },
  {
   "cell_type": "markdown",
   "id": "hMh-sdB0T_hI",
   "metadata": {
    "id": "hMh-sdB0T_hI"
   },
   "source": [
    "# Naive Bayes (GridSearchCV)"
   ]
  },
  {
   "cell_type": "code",
   "execution_count": 15,
   "id": "QtOOzFjJT_Sm",
   "metadata": {
    "id": "QtOOzFjJT_Sm",
    "outputId": "875ee2f7-2854-4025-e02d-48bcddc2ef84"
   },
   "outputs": [
    {
     "name": "stdout",
     "output_type": "stream",
     "text": [
      "Classification Report (GridSearchCV): \n",
      "              precision    recall  f1-score   support\n",
      "\n",
      "           0       0.84      0.94      0.89     22494\n",
      "           1       0.71      0.44      0.55      7240\n",
      "\n",
      "    accuracy                           0.82     29734\n",
      "   macro avg       0.78      0.69      0.72     29734\n",
      "weighted avg       0.81      0.82      0.81     29734\n",
      "\n",
      "Best hyperparameters:  {'var_smoothing': 1e-06}\n",
      "Confusion Matrix: \n",
      "[[21189  1305]\n",
      " [ 4026  3214]]\n",
      "Accuracy:  0.8207102979753818\n",
      "Precision:  0.7112192963044921\n",
      "Recall:  0.4439226519337017\n",
      "F1:  0.5466451228845991\n",
      "Time taken:  0:00:14.969539\n"
     ]
    },
    {
     "data": {
      "image/png": "[encoded data removed]",
      "text/plain": [
       "<Figure size 432x288 with 1 Axes>"
      ]
     },
     "metadata": {
      "needs_background": "light"
     },
     "output_type": "display_data"
    }
   ],
   "source": [
    "from sklearn.model_selection import train_test_split, GridSearchCV\n",
    "from sklearn.metrics import f1_score, accuracy_score, classification_report\n",
    "from sklearn.naive_bayes import GaussianNB\n",
    "\n",
    "naive_bayes = GaussianNB()\n",
    "\n",
    "param_grid = {'var_smoothing': [1e-9, 1e-8, 1e-7, 1e-6]}\n",
    "\n",
    "clf = GridSearchCV(naive_bayes, param_grid=param_grid, scoring=\"accuracy\", cv=3)\n",
    "\n",
    "clf.fit(X_train_norm, y_train)\n",
    "\n",
    "y_pred = clf.predict(X_test_norm)\n",
    "\n",
    "matrix = confusion_matrix(y_test,y_pred)\n",
    "\n",
    "labels = [0, 1]\n",
    "\n",
    "sns.heatmap(matrix, square=True, annot=True, fmt='d', cbar=False, cmap='Blues',\n",
    "           xticklabels=labels, yticklabels=labels)\n",
    "\n",
    "plt.xlabel('Predicted label')\n",
    "plt.ylabel('Actual label')\n",
    "\n",
    "report = classification_report(y_test,y_pred)\n",
    "accuracy = accuracy_score(y_test,y_pred)\n",
    "precision = precision_score(y_test,y_pred)\n",
    "recall = recall_score(y_test,y_pred)\n",
    "f1 = f1_score(y_test,y_pred)\n",
    "\n",
    "print(\"Classification Report (GridSearchCV): \")\n",
    "print(report)\n",
    "\n",
    "print(\"Best hyperparameters: \", clf.best_params_)\n",
    "\n",
    "print(\"Confusion Matrix: \")\n",
    "print(matrix)\n",
    "\n",
    "print(\"Accuracy: \", accuracy)\n",
    "print(\"Precision: \",precision)\n",
    "print(\"Recall: \",recall)\n",
    "print(\"F1: \", f1)\n",
    "print('Time taken: ', datetime.now()-start)"
   ]
  },
  {
   "cell_type": "markdown",
   "id": "XDaxZVgb_P9e",
   "metadata": {
    "id": "XDaxZVgb_P9e"
   },
   "source": [
    "### Evaluate Peformance (GridSearchCV)"
   ]
  },
  {
   "cell_type": "code",
   "execution_count": 16,
   "id": "i8fLwRaX_Pyz",
   "metadata": {
    "id": "i8fLwRaX_Pyz"
   },
   "outputs": [
    {
     "name": "stdout",
     "output_type": "stream",
     "text": [
      "Training accuracy:  0.8212399946189547\n",
      "Training precision:  0.7224956255468067\n",
      "Training recall:  0.4494370556821661\n",
      "Training f1:  0.554155220500346\n",
      "Test accuracy:  0.8207102979753818\n",
      "Test precision:  0.7112192963044921\n",
      "Test recall:  0.4439226519337017\n",
      "Test f1:  0.5466451228845991\n"
     ]
    }
   ],
   "source": [
    "# Evaluate performance on the training set\n",
    "y_train_pred = clf.predict(X_train_norm)\n",
    "train_acc = accuracy_score(y_train, y_train_pred)\n",
    "train_prec = precision_score(y_train, y_train_pred)\n",
    "train_rec = recall_score(y_train, y_train_pred)\n",
    "train_f1 = f1_score(y_train, y_train_pred)\n",
    "\n",
    "# Evaluate performance on the test set\n",
    "y_test_pred = clf.predict(X_test_norm)\n",
    "test_acc = accuracy_score(y_test, y_test_pred)\n",
    "test_prec = precision_score(y_test, y_test_pred)\n",
    "test_rec = recall_score(y_test, y_test_pred)\n",
    "test_f1 = f1_score(y_test, y_test_pred)\n",
    "\n",
    "# Print the performance metrics\n",
    "print(\"Training accuracy: \", train_acc)\n",
    "print(\"Training precision: \", train_prec)\n",
    "print(\"Training recall: \", train_rec)\n",
    "print(\"Training f1: \", train_f1)\n",
    "print(\"Test accuracy: \", test_acc)\n",
    "print(\"Test precision: \", test_prec)\n",
    "print(\"Test recall: \", test_rec)\n",
    "print(\"Test f1: \", test_f1)"
   ]
  },
  {
   "cell_type": "markdown",
   "id": "310f80ff",
   "metadata": {
    "id": "310f80ff"
   },
   "source": [
    "## Support Vector Machine"
   ]
  },
  {
   "cell_type": "code",
   "execution_count": 17,
   "id": "465569b0",
   "metadata": {
    "colab": {
     "base_uri": "https://localhost:8080/",
     "height": 397
    },
    "executionInfo": {
     "elapsed": 68388,
     "status": "ok",
     "timestamp": 1679492500871,
     "user": {
      "displayName": "YIP YI MUN _",
      "userId": "16901285140938076480"
     },
     "user_tz": -480
    },
    "id": "465569b0",
    "outputId": "93bc41ed-f302-4b72-a023-e3fd7afe2624"
   },
   "outputs": [
    {
     "data": {
      "text/html": [
       "<div>\n",
       "<style scoped>\n",
       "    .dataframe tbody tr th:only-of-type {\n",
       "        vertical-align: middle;\n",
       "    }\n",
       "\n",
       "    .dataframe tbody tr th {\n",
       "        vertical-align: top;\n",
       "    }\n",
       "\n",
       "    .dataframe thead th {\n",
       "        text-align: right;\n",
       "    }\n",
       "</style>\n",
       "<table border=\"1\" class=\"dataframe\">\n",
       "  <thead>\n",
       "    <tr style=\"text-align: right;\">\n",
       "      <th></th>\n",
       "      <th>Actual</th>\n",
       "      <th>Predicted</th>\n",
       "    </tr>\n",
       "  </thead>\n",
       "  <tbody>\n",
       "    <tr>\n",
       "      <th>53714</th>\n",
       "      <td>0</td>\n",
       "      <td>0</td>\n",
       "    </tr>\n",
       "    <tr>\n",
       "      <th>140238</th>\n",
       "      <td>0</td>\n",
       "      <td>0</td>\n",
       "    </tr>\n",
       "    <tr>\n",
       "      <th>85752</th>\n",
       "      <td>0</td>\n",
       "      <td>0</td>\n",
       "    </tr>\n",
       "    <tr>\n",
       "      <th>108766</th>\n",
       "      <td>0</td>\n",
       "      <td>0</td>\n",
       "    </tr>\n",
       "    <tr>\n",
       "      <th>111588</th>\n",
       "      <td>0</td>\n",
       "      <td>0</td>\n",
       "    </tr>\n",
       "    <tr>\n",
       "      <th>127350</th>\n",
       "      <td>0</td>\n",
       "      <td>0</td>\n",
       "    </tr>\n",
       "    <tr>\n",
       "      <th>25974</th>\n",
       "      <td>0</td>\n",
       "      <td>0</td>\n",
       "    </tr>\n",
       "    <tr>\n",
       "      <th>13073</th>\n",
       "      <td>0</td>\n",
       "      <td>0</td>\n",
       "    </tr>\n",
       "    <tr>\n",
       "      <th>81003</th>\n",
       "      <td>1</td>\n",
       "      <td>1</td>\n",
       "    </tr>\n",
       "    <tr>\n",
       "      <th>46740</th>\n",
       "      <td>0</td>\n",
       "      <td>0</td>\n",
       "    </tr>\n",
       "  </tbody>\n",
       "</table>\n",
       "</div>"
      ],
      "text/plain": [
       "        Actual  Predicted\n",
       "53714        0          0\n",
       "140238       0          0\n",
       "85752        0          0\n",
       "108766       0          0\n",
       "111588       0          0\n",
       "127350       0          0\n",
       "25974        0          0\n",
       "13073        0          0\n",
       "81003        1          1\n",
       "46740        0          0"
      ]
     },
     "execution_count": 17,
     "metadata": {},
     "output_type": "execute_result"
    }
   ],
   "source": [
    "svm = LinearSVC(random_state=42)\n",
    "\n",
    "#Fit the training feature Xs and training label Ys\n",
    "svm.fit(X_train_norm, y_train)\n",
    "\n",
    "#Use the trained model to predict the test data\n",
    "predictions = svm.predict(X_test_norm)\n",
    "\n",
    "results_df = pd.DataFrame({'Actual': y_test, 'Predicted': predictions})\n",
    "results_df.sample(10)"
   ]
  },
  {
   "cell_type": "code",
   "execution_count": 18,
   "id": "468996fd",
   "metadata": {
    "colab": {
     "base_uri": "https://localhost:8080/"
    },
    "executionInfo": {
     "elapsed": 64,
     "status": "ok",
     "timestamp": 1679492500872,
     "user": {
      "displayName": "YIP YI MUN _",
      "userId": "16901285140938076480"
     },
     "user_tz": -480
    },
    "id": "468996fd",
    "outputId": "1ec46567-dd23-4fd2-fa21-121c9b91ab18"
   },
   "outputs": [
    {
     "name": "stdout",
     "output_type": "stream",
     "text": [
      "Classification Report: \n",
      "              precision    recall  f1-score   support\n",
      "\n",
      "           0       0.85      0.99      0.91     22494\n",
      "           1       0.94      0.46      0.62      7240\n",
      "\n",
      "    accuracy                           0.86     29734\n",
      "   macro avg       0.89      0.72      0.77     29734\n",
      "weighted avg       0.87      0.86      0.84     29734\n",
      "\n",
      "Confusion Matrix: \n",
      "[[22268   226]\n",
      " [ 3914  3326]]\n",
      "Accuracy:  0.8607654536893792\n",
      "Precision:  0.9363738738738738\n",
      "Recall:  0.4593922651933702\n",
      "F1:  0.6163825055596739\n",
      "Time taken:  1:02:54.977231\n"
     ]
    },
    {
     "data": {
      "image/png": "[encoded data removed]",
      "text/plain": [
       "<Figure size 432x288 with 1 Axes>"
      ]
     },
     "metadata": {
      "needs_background": "light"
     },
     "output_type": "display_data"
    }
   ],
   "source": [
    "svm_confusion_matrix = confusion_matrix(y_test,predictions)\n",
    "\n",
    "labels = [0, 1]\n",
    "\n",
    "sns.heatmap(svm_confusion_matrix, square=True, annot=True, fmt='d', cbar=False, cmap='Blues',\n",
    "            xticklabels=labels, yticklabels=labels)\n",
    "\n",
    "plt.xlabel('Predicted label')\n",
    "plt.ylabel('Actual label')\n",
    "\n",
    "svm_classification_report = classification_report(y_test,predictions)\n",
    "svm_accuracy = accuracy_score(y_test,predictions)\n",
    "svm_precision = precision_score(y_test,predictions)\n",
    "svm_recall = recall_score(y_test,predictions)\n",
    "svm_f1 = f1_score(y_test,predictions)\n",
    "\n",
    "print(\"Classification Report: \")\n",
    "print(svm_classification_report)\n",
    "\n",
    "print(\"Confusion Matrix: \")\n",
    "print(svm_confusion_matrix)\n",
    "\n",
    "print(\"Accuracy: \", svm_accuracy)\n",
    "print(\"Precision: \",svm_precision)\n",
    "print(\"Recall: \",svm_recall)\n",
    "print(\"F1: \",svm_f1)\n",
    "print('Time taken: ', datetime.now()-start)"
   ]
  },
  {
   "cell_type": "markdown",
   "id": "QBc2PKJ4_Xrx",
   "metadata": {
    "id": "QBc2PKJ4_Xrx"
   },
   "source": [
    "### Evaluation Performance"
   ]
  },
  {
   "cell_type": "code",
   "execution_count": 19,
   "id": "Fu77BdGk_Xil",
   "metadata": {
    "id": "Fu77BdGk_Xil"
   },
   "outputs": [
    {
     "name": "stdout",
     "output_type": "stream",
     "text": [
      "Training accuracy:  0.8590418376269591\n",
      "Training precision:  0.9300789760348583\n",
      "Training recall:  0.46467566924045034\n",
      "Training f1:  0.6197291718647221\n",
      "Test accuracy:  0.8607654536893792\n",
      "Test precision:  0.9363738738738738\n",
      "Test recall:  0.4593922651933702\n",
      "Test f1:  0.6163825055596739\n"
     ]
    }
   ],
   "source": [
    "# Evaluate performance on the training set\n",
    "y_train_pred = svm.predict(X_train_norm)\n",
    "train_acc = accuracy_score(y_train, y_train_pred)\n",
    "train_prec = precision_score(y_train, y_train_pred)\n",
    "train_rec = recall_score(y_train, y_train_pred)\n",
    "train_f1 = f1_score(y_train, y_train_pred)\n",
    "\n",
    "# Evaluate performance on the test set\n",
    "y_test_pred = svm.predict(X_test_norm)\n",
    "test_acc = accuracy_score(y_test, y_test_pred)\n",
    "test_prec = precision_score(y_test, y_test_pred)\n",
    "test_rec = recall_score(y_test, y_test_pred)\n",
    "test_f1 = f1_score(y_test, y_test_pred)\n",
    "\n",
    "# Print the performance metrics\n",
    "print(\"Training accuracy: \", train_acc)\n",
    "print(\"Training precision: \", train_prec)\n",
    "print(\"Training recall: \", train_rec)\n",
    "print(\"Training f1: \", train_f1)\n",
    "print(\"Test accuracy: \", test_acc)\n",
    "print(\"Test precision: \", test_prec)\n",
    "print(\"Test recall: \", test_rec)\n",
    "print(\"Test f1: \", test_f1)"
   ]
  },
  {
   "cell_type": "markdown",
   "id": "KTSEp_hkPw4y",
   "metadata": {
    "id": "KTSEp_hkPw4y"
   },
   "source": [
    "# SVM (GridSearchCV)"
   ]
  },
  {
   "cell_type": "markdown",
   "id": "apahmE5-BLoY",
   "metadata": {
    "id": "apahmE5-BLoY"
   },
   "source": [
    "### Sample of the data"
   ]
  },
  {
   "cell_type": "code",
   "execution_count": 20,
   "id": "emxHb8QpPwVa",
   "metadata": {
    "id": "emxHb8QpPwVa",
    "outputId": "7be12318-24ae-43ae-e7cf-723e8288faf6"
   },
   "outputs": [
    {
     "data": {
      "text/html": [
       "<div>\n",
       "<style scoped>\n",
       "    .dataframe tbody tr th:only-of-type {\n",
       "        vertical-align: middle;\n",
       "    }\n",
       "\n",
       "    .dataframe tbody tr th {\n",
       "        vertical-align: top;\n",
       "    }\n",
       "\n",
       "    .dataframe thead th {\n",
       "        text-align: right;\n",
       "    }\n",
       "</style>\n",
       "<table border=\"1\" class=\"dataframe\">\n",
       "  <thead>\n",
       "    <tr style=\"text-align: right;\">\n",
       "      <th></th>\n",
       "      <th>loan_limit</th>\n",
       "      <th>approv_in_adv</th>\n",
       "      <th>credit_worthiness</th>\n",
       "      <th>open_credit</th>\n",
       "      <th>business_or_commercial</th>\n",
       "      <th>loan_amount</th>\n",
       "      <th>rate_of_interest</th>\n",
       "      <th>interest_rate_spread</th>\n",
       "      <th>upfront_charges</th>\n",
       "      <th>term</th>\n",
       "      <th>...</th>\n",
       "      <th>age_35-44</th>\n",
       "      <th>age_45-54</th>\n",
       "      <th>age_55-64</th>\n",
       "      <th>age_65-74</th>\n",
       "      <th>under_25</th>\n",
       "      <th>over_74</th>\n",
       "      <th>North</th>\n",
       "      <th>North-East</th>\n",
       "      <th>central</th>\n",
       "      <th>south</th>\n",
       "    </tr>\n",
       "  </thead>\n",
       "  <tbody>\n",
       "    <tr>\n",
       "      <th>24912</th>\n",
       "      <td>0</td>\n",
       "      <td>0</td>\n",
       "      <td>0</td>\n",
       "      <td>0</td>\n",
       "      <td>0</td>\n",
       "      <td>116500</td>\n",
       "      <td>4.99</td>\n",
       "      <td>1.45</td>\n",
       "      <td>2463.12</td>\n",
       "      <td>360.00</td>\n",
       "      <td>...</td>\n",
       "      <td>0.00</td>\n",
       "      <td>1.00</td>\n",
       "      <td>0.00</td>\n",
       "      <td>0.00</td>\n",
       "      <td>0.00</td>\n",
       "      <td>0.00</td>\n",
       "      <td>1.00</td>\n",
       "      <td>0.00</td>\n",
       "      <td>0.00</td>\n",
       "      <td>0.00</td>\n",
       "    </tr>\n",
       "    <tr>\n",
       "      <th>147068</th>\n",
       "      <td>0</td>\n",
       "      <td>1</td>\n",
       "      <td>0</td>\n",
       "      <td>0</td>\n",
       "      <td>1</td>\n",
       "      <td>236500</td>\n",
       "      <td>3.99</td>\n",
       "      <td>0.44</td>\n",
       "      <td>2517.59</td>\n",
       "      <td>360.00</td>\n",
       "      <td>...</td>\n",
       "      <td>0.00</td>\n",
       "      <td>0.00</td>\n",
       "      <td>0.00</td>\n",
       "      <td>0.00</td>\n",
       "      <td>0.00</td>\n",
       "      <td>0.00</td>\n",
       "      <td>0.00</td>\n",
       "      <td>0.00</td>\n",
       "      <td>0.00</td>\n",
       "      <td>1.00</td>\n",
       "    </tr>\n",
       "    <tr>\n",
       "      <th>123284</th>\n",
       "      <td>0</td>\n",
       "      <td>0</td>\n",
       "      <td>0</td>\n",
       "      <td>0</td>\n",
       "      <td>1</td>\n",
       "      <td>136500</td>\n",
       "      <td>3.99</td>\n",
       "      <td>0.45</td>\n",
       "      <td>3900.00</td>\n",
       "      <td>348.00</td>\n",
       "      <td>...</td>\n",
       "      <td>0.00</td>\n",
       "      <td>0.00</td>\n",
       "      <td>0.00</td>\n",
       "      <td>1.00</td>\n",
       "      <td>0.00</td>\n",
       "      <td>0.00</td>\n",
       "      <td>0.00</td>\n",
       "      <td>0.00</td>\n",
       "      <td>0.00</td>\n",
       "      <td>1.00</td>\n",
       "    </tr>\n",
       "    <tr>\n",
       "      <th>53610</th>\n",
       "      <td>0</td>\n",
       "      <td>0</td>\n",
       "      <td>0</td>\n",
       "      <td>0</td>\n",
       "      <td>1</td>\n",
       "      <td>256500</td>\n",
       "      <td>4.25</td>\n",
       "      <td>0.62</td>\n",
       "      <td>3437.50</td>\n",
       "      <td>180.00</td>\n",
       "      <td>...</td>\n",
       "      <td>0.00</td>\n",
       "      <td>0.00</td>\n",
       "      <td>0.00</td>\n",
       "      <td>1.00</td>\n",
       "      <td>0.00</td>\n",
       "      <td>0.00</td>\n",
       "      <td>1.00</td>\n",
       "      <td>0.00</td>\n",
       "      <td>0.00</td>\n",
       "      <td>0.00</td>\n",
       "    </tr>\n",
       "    <tr>\n",
       "      <th>39672</th>\n",
       "      <td>0</td>\n",
       "      <td>0</td>\n",
       "      <td>0</td>\n",
       "      <td>0</td>\n",
       "      <td>1</td>\n",
       "      <td>686500</td>\n",
       "      <td>3.38</td>\n",
       "      <td>-0.22</td>\n",
       "      <td>0.00</td>\n",
       "      <td>360.00</td>\n",
       "      <td>...</td>\n",
       "      <td>1.00</td>\n",
       "      <td>0.00</td>\n",
       "      <td>0.00</td>\n",
       "      <td>0.00</td>\n",
       "      <td>0.00</td>\n",
       "      <td>0.00</td>\n",
       "      <td>1.00</td>\n",
       "      <td>0.00</td>\n",
       "      <td>0.00</td>\n",
       "      <td>0.00</td>\n",
       "    </tr>\n",
       "  </tbody>\n",
       "</table>\n",
       "<p>5 rows × 57 columns</p>\n",
       "</div>"
      ],
      "text/plain": [
       "        loan_limit  approv_in_adv  credit_worthiness  open_credit  \\\n",
       "24912            0              0                  0            0   \n",
       "147068           0              1                  0            0   \n",
       "123284           0              0                  0            0   \n",
       "53610            0              0                  0            0   \n",
       "39672            0              0                  0            0   \n",
       "\n",
       "        business_or_commercial  loan_amount  rate_of_interest  \\\n",
       "24912                        0       116500              4.99   \n",
       "147068                       1       236500              3.99   \n",
       "123284                       1       136500              3.99   \n",
       "53610                        1       256500              4.25   \n",
       "39672                        1       686500              3.38   \n",
       "\n",
       "        interest_rate_spread  upfront_charges   term  ...  age_35-44  \\\n",
       "24912                   1.45          2463.12 360.00  ...       0.00   \n",
       "147068                  0.44          2517.59 360.00  ...       0.00   \n",
       "123284                  0.45          3900.00 348.00  ...       0.00   \n",
       "53610                   0.62          3437.50 180.00  ...       0.00   \n",
       "39672                  -0.22             0.00 360.00  ...       1.00   \n",
       "\n",
       "        age_45-54  age_55-64  age_65-74  under_25  over_74  North  North-East  \\\n",
       "24912        1.00       0.00       0.00      0.00     0.00   1.00        0.00   \n",
       "147068       0.00       0.00       0.00      0.00     0.00   0.00        0.00   \n",
       "123284       0.00       0.00       1.00      0.00     0.00   0.00        0.00   \n",
       "53610        0.00       0.00       1.00      0.00     0.00   1.00        0.00   \n",
       "39672        0.00       0.00       0.00      0.00     0.00   1.00        0.00   \n",
       "\n",
       "        central  south  \n",
       "24912      0.00   0.00  \n",
       "147068     0.00   1.00  \n",
       "123284     0.00   1.00  \n",
       "53610      0.00   0.00  \n",
       "39672      0.00   0.00  \n",
       "\n",
       "[5 rows x 57 columns]"
      ]
     },
     "execution_count": 20,
     "metadata": {},
     "output_type": "execute_result"
    }
   ],
   "source": [
    "random_subset = df.sample(n=10000, random_state=42)\n",
    "random_subset.head()"
   ]
  },
  {
   "cell_type": "code",
   "execution_count": 21,
   "id": "tzY9vOweAIbO",
   "metadata": {
    "id": "tzY9vOweAIbO"
   },
   "outputs": [],
   "source": [
    "X = random_subset.drop('status', axis=1)\n",
    "y = random_subset['status']\n",
    "\n",
    "X_ori = X\n",
    "X_norm = standardScaler.fit_transform(X)\n",
    "\n",
    "# Normalized data\n",
    "X_train_svm, X_test_svm, y_train_svm, y_test_svm = train_test_split(X_norm, y, test_size=0.20, random_state=42, stratify=y)"
   ]
  },
  {
   "cell_type": "code",
   "execution_count": 22,
   "id": "FprF-HiDALLm",
   "metadata": {
    "id": "FprF-HiDALLm"
   },
   "outputs": [
    {
     "name": "stdout",
     "output_type": "stream",
     "text": [
      "Classification Report (GridSearchCV): \n",
      "              precision    recall  f1-score   support\n",
      "\n",
      "           0       0.93      0.98      0.95      1527\n",
      "           1       0.92      0.75      0.83       473\n",
      "\n",
      "    accuracy                           0.93      2000\n",
      "   macro avg       0.92      0.86      0.89      2000\n",
      "weighted avg       0.92      0.93      0.92      2000\n",
      "\n",
      "Best hyperparameters:  {'C': 10, 'gamma': 0.01}\n",
      "Accuracy:  0.925\n",
      "Precision:  0.917312661498708\n",
      "Recall:  0.7505285412262156\n",
      "F1:  0.8255813953488372\n",
      "Time taken:  0:06:05.517613\n"
     ]
    },
    {
     "data": {
      "image/png": "[encoded data removed]",
      "text/plain": [
       "<Figure size 432x288 with 1 Axes>"
      ]
     },
     "metadata": {
      "needs_background": "light"
     },
     "output_type": "display_data"
    }
   ],
   "source": [
    "from sklearn.model_selection import train_test_split, GridSearchCV\n",
    "from sklearn.metrics import f1_score, accuracy_score\n",
    "\n",
    "svc = SVC(kernel=\"rbf\")\n",
    "ranges = [0.01, 0.03, 0.1, 0.3, 1, 3, 10]\n",
    "param_grid = {\"C\":ranges, \"gamma\":ranges}\n",
    "\n",
    "clf = GridSearchCV(svc, param_grid=param_grid, scoring=\"accuracy\", cv=3)\n",
    "\n",
    "clf.fit(X_train_svm, y_train_svm)\n",
    "\n",
    "y_pred = clf.predict(X_test_svm)\n",
    "\n",
    "svm_confusion_matrix = confusion_matrix(y_test_svm,y_pred)\n",
    "\n",
    "labels = [0, 1]\n",
    "\n",
    "sns.heatmap(svm_confusion_matrix, square=True, annot=True, fmt='d', cbar=False, cmap='Blues',\n",
    "           xticklabels=labels, yticklabels=labels)\n",
    "\n",
    "plt.xlabel('Predicted label')\n",
    "plt.ylabel('Actual label')\n",
    "\n",
    "svm_classification_report = classification_report(y_test_svm,y_pred)\n",
    "svm_accuracy = accuracy_score(y_test_svm,y_pred)\n",
    "svm_precision = precision_score(y_test_svm,y_pred)\n",
    "svm_recall = recall_score(y_test_svm,y_pred)\n",
    "svm_f1 = f1_score(y_test_svm,y_pred)\n",
    "\n",
    "print(\"Classification Report (GridSearchCV): \")\n",
    "print(svm_classification_report)\n",
    "\n",
    "print(\"Best hyperparameters: \", clf.best_params_)\n",
    "\n",
    "print(\"Accuracy: \", svm_accuracy)\n",
    "print(\"Precision: \",svm_precision)\n",
    "print(\"Recall: \",svm_recall)\n",
    "print(\"F1: \",svm_f1)\n",
    "print('Time taken: ', datetime.now()-start)"
   ]
  },
  {
   "cell_type": "markdown",
   "id": "Jzi9LToqsi9p",
   "metadata": {
    "id": "Jzi9LToqsi9p"
   },
   "source": [
    "### Evaluation Performance (GridSearchCV)"
   ]
  },
  {
   "cell_type": "code",
   "execution_count": 23,
   "id": "P9Ct_8oLsizw",
   "metadata": {
    "id": "P9Ct_8oLsizw"
   },
   "outputs": [
    {
     "name": "stdout",
     "output_type": "stream",
     "text": [
      "Training accuracy:  0.962875\n",
      "Training precision:  0.9860012172854534\n",
      "Training recall:  0.8553326293558606\n",
      "Training f1:  0.916030534351145\n",
      "Test accuracy:  0.925\n",
      "Test precision:  0.917312661498708\n",
      "Test recall:  0.7505285412262156\n",
      "Test f1:  0.8255813953488372\n"
     ]
    }
   ],
   "source": [
    "from sklearn.svm import LinearSVC, SVC\n",
    "# Evaluate performance on the training set\n",
    "y_train_pred = clf.predict(X_train_svm)\n",
    "train_acc = accuracy_score(y_train_svm, y_train_pred)\n",
    "train_prec = precision_score(y_train_svm, y_train_pred)\n",
    "train_rec = recall_score(y_train_svm, y_train_pred)\n",
    "train_f1 = f1_score(y_train_svm, y_train_pred)\n",
    "\n",
    "# Evaluate performance on the test set\n",
    "y_test_pred = clf.predict(X_test_svm)\n",
    "test_acc = accuracy_score(y_test_svm, y_test_pred)\n",
    "test_prec = precision_score(y_test_svm, y_test_pred)\n",
    "test_rec = recall_score(y_test_svm, y_test_pred)\n",
    "test_f1 = f1_score(y_test_svm, y_test_pred)\n",
    "\n",
    "# Print the performance metrics\n",
    "print(\"Training accuracy: \", train_acc)\n",
    "print(\"Training precision: \", train_prec)\n",
    "print(\"Training recall: \", train_rec)\n",
    "print(\"Training f1: \", train_f1)\n",
    "print(\"Test accuracy: \", test_acc)\n",
    "print(\"Test precision: \", test_prec)\n",
    "print(\"Test recall: \", test_rec)\n",
    "print(\"Test f1: \", test_f1)"
   ]
  },
  {
   "cell_type": "markdown",
   "id": "d1fcb322",
   "metadata": {
    "id": "d1fcb322"
   },
   "source": [
    "## Decision Tree"
   ]
  },
  {
   "cell_type": "code",
   "execution_count": 24,
   "id": "5d8bbd74",
   "metadata": {
    "colab": {
     "base_uri": "https://localhost:8080/",
     "height": 363
    },
    "executionInfo": {
     "elapsed": 10726,
     "status": "ok",
     "timestamp": 1679492511544,
     "user": {
      "displayName": "YIP YI MUN _",
      "userId": "16901285140938076480"
     },
     "user_tz": -480
    },
    "id": "5d8bbd74",
    "outputId": "ad7382c9-f09e-4357-fbee-96e1cfd37627"
   },
   "outputs": [
    {
     "data": {
      "text/html": [
       "<div>\n",
       "<style scoped>\n",
       "    .dataframe tbody tr th:only-of-type {\n",
       "        vertical-align: middle;\n",
       "    }\n",
       "\n",
       "    .dataframe tbody tr th {\n",
       "        vertical-align: top;\n",
       "    }\n",
       "\n",
       "    .dataframe thead th {\n",
       "        text-align: right;\n",
       "    }\n",
       "</style>\n",
       "<table border=\"1\" class=\"dataframe\">\n",
       "  <thead>\n",
       "    <tr style=\"text-align: right;\">\n",
       "      <th></th>\n",
       "      <th>Actual</th>\n",
       "      <th>Predicted</th>\n",
       "    </tr>\n",
       "  </thead>\n",
       "  <tbody>\n",
       "    <tr>\n",
       "      <th>56752</th>\n",
       "      <td>1</td>\n",
       "      <td>1</td>\n",
       "    </tr>\n",
       "    <tr>\n",
       "      <th>2047</th>\n",
       "      <td>0</td>\n",
       "      <td>0</td>\n",
       "    </tr>\n",
       "    <tr>\n",
       "      <th>10627</th>\n",
       "      <td>1</td>\n",
       "      <td>1</td>\n",
       "    </tr>\n",
       "    <tr>\n",
       "      <th>44465</th>\n",
       "      <td>0</td>\n",
       "      <td>0</td>\n",
       "    </tr>\n",
       "    <tr>\n",
       "      <th>38251</th>\n",
       "      <td>0</td>\n",
       "      <td>0</td>\n",
       "    </tr>\n",
       "    <tr>\n",
       "      <th>131406</th>\n",
       "      <td>0</td>\n",
       "      <td>0</td>\n",
       "    </tr>\n",
       "    <tr>\n",
       "      <th>17389</th>\n",
       "      <td>0</td>\n",
       "      <td>0</td>\n",
       "    </tr>\n",
       "    <tr>\n",
       "      <th>109651</th>\n",
       "      <td>0</td>\n",
       "      <td>0</td>\n",
       "    </tr>\n",
       "    <tr>\n",
       "      <th>140939</th>\n",
       "      <td>0</td>\n",
       "      <td>0</td>\n",
       "    </tr>\n",
       "    <tr>\n",
       "      <th>137740</th>\n",
       "      <td>0</td>\n",
       "      <td>0</td>\n",
       "    </tr>\n",
       "  </tbody>\n",
       "</table>\n",
       "</div>"
      ],
      "text/plain": [
       "        Actual  Predicted\n",
       "56752        1          1\n",
       "2047         0          0\n",
       "10627        1          1\n",
       "44465        0          0\n",
       "38251        0          0\n",
       "131406       0          0\n",
       "17389        0          0\n",
       "109651       0          0\n",
       "140939       0          0\n",
       "137740       0          0"
      ]
     },
     "execution_count": 24,
     "metadata": {},
     "output_type": "execute_result"
    }
   ],
   "source": [
    "model=DecisionTreeClassifier(criterion='entropy', random_state=42)\n",
    "model.fit(X_train_norm,y_train)\n",
    "\n",
    "y_pred=model.predict(X_test_norm)\n",
    "\n",
    "results_df = pd.DataFrame({'Actual': y_test, 'Predicted': y_pred})\n",
    "results_df.sample(10)"
   ]
  },
  {
   "cell_type": "code",
   "execution_count": 25,
   "id": "da1262cd",
   "metadata": {
    "colab": {
     "base_uri": "https://localhost:8080/"
    },
    "executionInfo": {
     "elapsed": 22,
     "status": "ok",
     "timestamp": 1679492511545,
     "user": {
      "displayName": "YIP YI MUN _",
      "userId": "16901285140938076480"
     },
     "user_tz": -480
    },
    "id": "da1262cd",
    "outputId": "4fa724f6-23bd-430a-ca5d-a3c220a4e767"
   },
   "outputs": [
    {
     "name": "stdout",
     "output_type": "stream",
     "text": [
      "Classification Report: \n",
      "              precision    recall  f1-score   support\n",
      "\n",
      "           0       0.89      0.89      0.89     22494\n",
      "           1       0.65      0.67      0.66      7240\n",
      "\n",
      "    accuracy                           0.83     29734\n",
      "   macro avg       0.77      0.78      0.77     29734\n",
      "weighted avg       0.83      0.83      0.83     29734\n",
      "\n",
      "Confusion Matrix: \n",
      "[[19914  2580]\n",
      " [ 2393  4847]]\n",
      "Accuracy:  0.8327503867626287\n",
      "Precision:  0.6526188232126027\n",
      "Recall:  0.6694751381215469\n",
      "F1:  0.660939524101725\n",
      "Time taken:  0:06:14.064834\n"
     ]
    },
    {
     "data": {
      "image/png": "[encoded data removed]",
      "text/plain": [
       "<Figure size 432x288 with 1 Axes>"
      ]
     },
     "metadata": {
      "needs_background": "light"
     },
     "output_type": "display_data"
    }
   ],
   "source": [
    "matrix = confusion_matrix(y_test,y_pred)\n",
    "\n",
    "labels = [0, 1]\n",
    "\n",
    "sns.heatmap(matrix, square=True, annot=True, fmt='d', cbar=False, cmap='Blues',\n",
    "            xticklabels=labels, yticklabels=labels)\n",
    "\n",
    "plt.xlabel('Predicted label')\n",
    "plt.ylabel('Actual label')\n",
    "\n",
    "report = classification_report(y_test,y_pred)\n",
    "accuracy = accuracy_score(y_test,y_pred)\n",
    "precision = precision_score(y_test,y_pred)\n",
    "recall = recall_score(y_test,y_pred)\n",
    "f1 = f1_score(y_test,y_pred)\n",
    "\n",
    "print(\"Classification Report: \")\n",
    "print(report)\n",
    "\n",
    "print(\"Confusion Matrix: \")\n",
    "print(matrix)\n",
    "\n",
    "print(\"Accuracy: \",accuracy)\n",
    "print(\"Precision: \",precision)\n",
    "print(\"Recall: \",recall)\n",
    "print(\"F1: \", f1)\n",
    "print('Time taken: ', datetime.now()-start)"
   ]
  },
  {
   "cell_type": "markdown",
   "id": "cd25caa1",
   "metadata": {
    "id": "cd25caa1"
   },
   "source": [
    "### Evaluating performance"
   ]
  },
  {
   "cell_type": "code",
   "execution_count": 26,
   "id": "5a5274b3",
   "metadata": {
    "id": "5a5274b3",
    "outputId": "94d33f70-5d8a-4574-8202-edda3805e152"
   },
   "outputs": [
    {
     "name": "stdout",
     "output_type": "stream",
     "text": [
      "Training accuracy:  1.0\n",
      "Training precision:  1.0\n",
      "Training recall:  1.0\n",
      "Training f1:  1.0\n",
      "Test accuracy:  0.8327503867626287\n",
      "Test precision:  0.6526188232126027\n",
      "Test recall:  0.6694751381215469\n",
      "Test f1:  0.660939524101725\n"
     ]
    }
   ],
   "source": [
    "# Evaluate performance on the training set\n",
    "y_train_pred = model.predict(X_train_norm)\n",
    "train_acc = accuracy_score(y_train, y_train_pred)\n",
    "train_prec = precision_score(y_train, y_train_pred)\n",
    "train_rec = recall_score(y_train, y_train_pred)\n",
    "train_f1 = f1_score(y_train, y_train_pred)\n",
    "\n",
    "# Evaluate performance on the test set\n",
    "y_test_pred = model.predict(X_test_norm)\n",
    "test_acc = accuracy_score(y_test, y_test_pred)\n",
    "test_prec = precision_score(y_test, y_test_pred)\n",
    "test_rec = recall_score(y_test, y_test_pred)\n",
    "test_f1 = f1_score(y_test, y_test_pred)\n",
    "\n",
    "# Print the performance metrics\n",
    "print(\"Training accuracy: \", train_acc)\n",
    "print(\"Training precision: \", train_prec)\n",
    "print(\"Training recall: \", train_rec)\n",
    "print(\"Training f1: \", train_f1)\n",
    "print(\"Test accuracy: \", test_acc)\n",
    "print(\"Test precision: \", test_prec)\n",
    "print(\"Test recall: \", test_rec)\n",
    "print(\"Test f1: \", test_f1)"
   ]
  },
  {
   "cell_type": "markdown",
   "id": "743b229a",
   "metadata": {
    "id": "743b229a"
   },
   "source": [
    "## Decision Tree (GridSearchCV)"
   ]
  },
  {
   "cell_type": "code",
   "execution_count": 27,
   "id": "dd543f27",
   "metadata": {
    "id": "dd543f27",
    "outputId": "1c23cbaa-8c58-4504-bde1-0933312c3dad"
   },
   "outputs": [
    {
     "name": "stdout",
     "output_type": "stream",
     "text": [
      "\n",
      " The best parameters across ALL searched params:\n",
      " {'criterion': 'gini', 'max_depth': 8, 'min_samples_leaf': 1, 'min_samples_split': 2}\n"
     ]
    }
   ],
   "source": [
    "# Create a decision tree classifier\n",
    "dt = DecisionTreeClassifier(random_state=42)\n",
    "\n",
    "# Define the parameter grid to search over\n",
    "param_grid = {\n",
    "    'max_depth': [2, 8],\n",
    "    'min_samples_split': [2, 8],\n",
    "    'min_samples_leaf': [1, 4],\n",
    "    'criterion': ['gini', 'entropy']\n",
    "}\n",
    "\n",
    "# Create the GridSearchCV object\n",
    "grid_search_dt = GridSearchCV(estimator=dt, param_grid=param_grid, cv=5, n_jobs=-1)\n",
    "\n",
    "# Fit the GridSearchCV object to the training data\n",
    "grid_search_dt.fit(X_train_norm, y_train)\n",
    "\n",
    "# Get the best model from the GridSearchCV object\n",
    "best_model_dt = grid_search_dt.best_estimator_\n",
    "\n",
    "# Get the best set of params\n",
    "print(\"\\n The best parameters across ALL searched params:\\n\",grid_search_dt.best_params_)\n",
    "\n",
    "# Make predictions on the test data\n",
    "y_pred = best_model_dt.predict(X_test_norm)"
   ]
  },
  {
   "cell_type": "code",
   "execution_count": 28,
   "id": "7facf5b3",
   "metadata": {
    "id": "7facf5b3",
    "outputId": "2e85e40c-1398-4bae-ed5c-e9b3917c3bd7"
   },
   "outputs": [
    {
     "name": "stdout",
     "output_type": "stream",
     "text": [
      "Classification Report: \n",
      "              precision    recall  f1-score   support\n",
      "\n",
      "           0       0.85      0.98      0.91     22494\n",
      "           1       0.88      0.45      0.60      7240\n",
      "\n",
      "    accuracy                           0.85     29734\n",
      "   macro avg       0.86      0.72      0.75     29734\n",
      "weighted avg       0.86      0.85      0.83     29734\n",
      "\n",
      "Confusion Matrix: \n",
      "[[22038   456]\n",
      " [ 3961  3279]]\n",
      "Accuracy:  0.8514495190690792\n",
      "Precision:  0.8779116465863454\n",
      "Recall:  0.4529005524861878\n",
      "F1:  0.5975398633257403\n",
      "Time taken:  0:06:42.959685\n"
     ]
    },
    {
     "data": {
      "image/png": "[encoded data removed]",
      "text/plain": [
       "<Figure size 432x288 with 1 Axes>"
      ]
     },
     "metadata": {
      "needs_background": "light"
     },
     "output_type": "display_data"
    }
   ],
   "source": [
    "matrix = confusion_matrix(y_test,y_pred)\n",
    "\n",
    "labels = [0, 1]\n",
    "\n",
    "sns.heatmap(matrix, square=True, annot=True, fmt='d', cbar=False, cmap='Blues',\n",
    "            xticklabels=labels, yticklabels=labels)\n",
    "\n",
    "plt.xlabel('Predicted label')\n",
    "plt.ylabel('Actual label')\n",
    "\n",
    "report = classification_report(y_test,y_pred)\n",
    "accuracy = accuracy_score(y_test,y_pred)\n",
    "precision = precision_score(y_test,y_pred)\n",
    "recall = recall_score(y_test,y_pred)\n",
    "f1 = f1_score(y_test,y_pred)\n",
    "\n",
    "print(\"Classification Report: \")\n",
    "print(report)\n",
    "\n",
    "print(\"Confusion Matrix: \")\n",
    "print(matrix)\n",
    "\n",
    "print(\"Accuracy: \",accuracy)\n",
    "print(\"Precision: \",precision)\n",
    "print(\"Recall: \",recall)\n",
    "print(\"F1: \", f1)\n",
    "print('Time taken: ', datetime.now()-start)"
   ]
  },
  {
   "cell_type": "markdown",
   "id": "6a301bb5",
   "metadata": {
    "id": "6a301bb5"
   },
   "source": [
    "### Evaluating performance (GridSearchCV)"
   ]
  },
  {
   "cell_type": "code",
   "execution_count": 29,
   "id": "eb68566d",
   "metadata": {
    "id": "eb68566d",
    "outputId": "373775fd-ceec-4c71-e6ee-05fad10f088e"
   },
   "outputs": [
    {
     "name": "stdout",
     "output_type": "stream",
     "text": [
      "Training accuracy:  0.8563260913432434\n",
      "Training precision:  0.9068138259202961\n",
      "Training recall:  0.4667165549848634\n",
      "Training f1:  0.6162587019986526\n",
      "Test accuracy:  0.8514495190690792\n",
      "Test precision:  0.8779116465863454\n",
      "Test recall:  0.4529005524861878\n",
      "Test f1:  0.5975398633257403\n"
     ]
    }
   ],
   "source": [
    "# Evaluate performance on the training set\n",
    "y_train_pred = best_model_dt.predict(X_train_norm)\n",
    "train_acc = accuracy_score(y_train, y_train_pred)\n",
    "train_prec = precision_score(y_train, y_train_pred)\n",
    "train_rec = recall_score(y_train, y_train_pred)\n",
    "train_f1 = f1_score(y_train, y_train_pred)\n",
    "\n",
    "# Evaluate performance on the test set\n",
    "y_test_pred = best_model_dt.predict(X_test_norm)\n",
    "test_acc = accuracy_score(y_test, y_test_pred)\n",
    "test_prec = precision_score(y_test, y_test_pred)\n",
    "test_rec = recall_score(y_test, y_test_pred)\n",
    "test_f1 = f1_score(y_test, y_test_pred)\n",
    "\n",
    "# Print the performance metrics\n",
    "print(\"Training accuracy: \", train_acc)\n",
    "print(\"Training precision: \", train_prec)\n",
    "print(\"Training recall: \", train_rec)\n",
    "print(\"Training f1: \", train_f1)\n",
    "print(\"Test accuracy: \", test_acc)\n",
    "print(\"Test precision: \", test_prec)\n",
    "print(\"Test recall: \", test_rec)\n",
    "print(\"Test f1: \", test_f1)"
   ]
  },
  {
   "cell_type": "markdown",
   "id": "a0dde96c",
   "metadata": {
    "id": "a0dde96c"
   },
   "source": [
    "## Random Forest"
   ]
  },
  {
   "cell_type": "code",
   "execution_count": 30,
   "id": "476adff3",
   "metadata": {
    "colab": {
     "base_uri": "https://localhost:8080/",
     "height": 363
    },
    "executionInfo": {
     "elapsed": 102423,
     "status": "ok",
     "timestamp": 1679492613951,
     "user": {
      "displayName": "YIP YI MUN _",
      "userId": "16901285140938076480"
     },
     "user_tz": -480
    },
    "id": "476adff3",
    "outputId": "0e782188-5d21-4f6c-ab62-dc729f671051"
   },
   "outputs": [
    {
     "data": {
      "text/html": [
       "<div>\n",
       "<style scoped>\n",
       "    .dataframe tbody tr th:only-of-type {\n",
       "        vertical-align: middle;\n",
       "    }\n",
       "\n",
       "    .dataframe tbody tr th {\n",
       "        vertical-align: top;\n",
       "    }\n",
       "\n",
       "    .dataframe thead th {\n",
       "        text-align: right;\n",
       "    }\n",
       "</style>\n",
       "<table border=\"1\" class=\"dataframe\">\n",
       "  <thead>\n",
       "    <tr style=\"text-align: right;\">\n",
       "      <th></th>\n",
       "      <th>Actual</th>\n",
       "      <th>Predicted</th>\n",
       "    </tr>\n",
       "  </thead>\n",
       "  <tbody>\n",
       "    <tr>\n",
       "      <th>52206</th>\n",
       "      <td>1</td>\n",
       "      <td>0</td>\n",
       "    </tr>\n",
       "    <tr>\n",
       "      <th>10163</th>\n",
       "      <td>0</td>\n",
       "      <td>0</td>\n",
       "    </tr>\n",
       "    <tr>\n",
       "      <th>77138</th>\n",
       "      <td>1</td>\n",
       "      <td>1</td>\n",
       "    </tr>\n",
       "    <tr>\n",
       "      <th>106050</th>\n",
       "      <td>1</td>\n",
       "      <td>0</td>\n",
       "    </tr>\n",
       "    <tr>\n",
       "      <th>4248</th>\n",
       "      <td>1</td>\n",
       "      <td>1</td>\n",
       "    </tr>\n",
       "    <tr>\n",
       "      <th>60626</th>\n",
       "      <td>0</td>\n",
       "      <td>0</td>\n",
       "    </tr>\n",
       "    <tr>\n",
       "      <th>95759</th>\n",
       "      <td>0</td>\n",
       "      <td>0</td>\n",
       "    </tr>\n",
       "    <tr>\n",
       "      <th>19581</th>\n",
       "      <td>0</td>\n",
       "      <td>0</td>\n",
       "    </tr>\n",
       "    <tr>\n",
       "      <th>129133</th>\n",
       "      <td>0</td>\n",
       "      <td>0</td>\n",
       "    </tr>\n",
       "    <tr>\n",
       "      <th>119495</th>\n",
       "      <td>1</td>\n",
       "      <td>0</td>\n",
       "    </tr>\n",
       "  </tbody>\n",
       "</table>\n",
       "</div>"
      ],
      "text/plain": [
       "        Actual  Predicted\n",
       "52206        1          0\n",
       "10163        0          0\n",
       "77138        1          1\n",
       "106050       1          0\n",
       "4248         1          1\n",
       "60626        0          0\n",
       "95759        0          0\n",
       "19581        0          0\n",
       "129133       0          0\n",
       "119495       1          0"
      ]
     },
     "execution_count": 30,
     "metadata": {},
     "output_type": "execute_result"
    }
   ],
   "source": [
    "model=RandomForestClassifier(n_estimators=100, random_state=42, n_jobs=-1, criterion='entropy')\n",
    "model.fit(X_train_norm,y_train)\n",
    "\n",
    "y_pred = model.predict(X_test_norm)\n",
    "\n",
    "results_df = pd.DataFrame({'Actual': y_test, 'Predicted': y_pred})\n",
    "results_df.sample(10)"
   ]
  },
  {
   "cell_type": "code",
   "execution_count": 31,
   "id": "d6ac1908",
   "metadata": {
    "colab": {
     "base_uri": "https://localhost:8080/"
    },
    "executionInfo": {
     "elapsed": 75,
     "status": "ok",
     "timestamp": 1679492613952,
     "user": {
      "displayName": "YIP YI MUN _",
      "userId": "16901285140938076480"
     },
     "user_tz": -480
    },
    "id": "d6ac1908",
    "outputId": "85efb2fb-2356-4357-eb24-561b9e4f913a"
   },
   "outputs": [
    {
     "name": "stdout",
     "output_type": "stream",
     "text": [
      "Classification Report: \n",
      "              precision    recall  f1-score   support\n",
      "\n",
      "           0       0.88      0.99      0.93     22494\n",
      "           1       0.93      0.56      0.70      7240\n",
      "\n",
      "    accuracy                           0.88     29734\n",
      "   macro avg       0.90      0.77      0.81     29734\n",
      "weighted avg       0.89      0.88      0.87     29734\n",
      "\n",
      "Confusion Matrix: \n",
      "[[22199   295]\n",
      " [ 3168  4072]]\n",
      "Accuracy:  0.8835340014797874\n",
      "Precision:  0.9324479047400962\n",
      "Recall:  0.5624309392265193\n",
      "F1:  0.7016455587145688\n",
      "Time taken:  0:07:00.132605\n"
     ]
    },
    {
     "data": {
      "image/png": "[encoded data removed]",
      "text/plain": [
       "<Figure size 432x288 with 1 Axes>"
      ]
     },
     "metadata": {
      "needs_background": "light"
     },
     "output_type": "display_data"
    }
   ],
   "source": [
    "matrix = confusion_matrix(y_test,y_pred)\n",
    "\n",
    "labels = [0, 1]\n",
    "\n",
    "sns.heatmap(matrix, square=True, annot=True, fmt='d', cbar=False, cmap='Blues',\n",
    "            xticklabels=labels, yticklabels=labels)\n",
    "\n",
    "plt.xlabel('Predicted label')\n",
    "plt.ylabel('Actual label')\n",
    "\n",
    "report = classification_report(y_test,y_pred)\n",
    "accuracy = accuracy_score(y_test,y_pred)\n",
    "precision = precision_score(y_test,y_pred)\n",
    "recall = recall_score(y_test,y_pred)\n",
    "f1 = f1_score(y_test,y_pred)\n",
    "\n",
    "print(\"Classification Report: \")\n",
    "print(report)\n",
    "\n",
    "print(\"Confusion Matrix: \")\n",
    "print(matrix)\n",
    "\n",
    "print(\"Accuracy: \",accuracy)\n",
    "print(\"Precision: \",precision)\n",
    "print(\"Recall: \",recall)\n",
    "print(\"F1: \", f1)\n",
    "print('Time taken: ', datetime.now()-start)"
   ]
  },
  {
   "cell_type": "markdown",
   "id": "06758f6e",
   "metadata": {
    "id": "06758f6e"
   },
   "source": [
    "### Evaluating performance"
   ]
  },
  {
   "cell_type": "code",
   "execution_count": 32,
   "id": "36c7bda4",
   "metadata": {
    "id": "36c7bda4",
    "outputId": "eec430de-c612-4162-e898-30849b6bcb58"
   },
   "outputs": [
    {
     "name": "stdout",
     "output_type": "stream",
     "text": [
      "Training accuracy:  1.0\n",
      "Training precision:  1.0\n",
      "Training recall:  1.0\n",
      "Training f1:  1.0\n",
      "Test accuracy:  0.8835340014797874\n",
      "Test precision:  0.9324479047400962\n",
      "Test recall:  0.5624309392265193\n",
      "Test f1:  0.7016455587145688\n"
     ]
    }
   ],
   "source": [
    "# Evaluate performance on the training set\n",
    "y_train_pred = model.predict(X_train_norm)\n",
    "train_acc = accuracy_score(y_train, y_train_pred)\n",
    "train_prec = precision_score(y_train, y_train_pred)\n",
    "train_rec = recall_score(y_train, y_train_pred)\n",
    "train_f1 = f1_score(y_train, y_train_pred)\n",
    "\n",
    "# Evaluate performance on the test set\n",
    "y_test_pred = model.predict(X_test_norm)\n",
    "test_acc = accuracy_score(y_test, y_test_pred)\n",
    "test_prec = precision_score(y_test, y_test_pred)\n",
    "test_rec = recall_score(y_test, y_test_pred)\n",
    "test_f1 = f1_score(y_test, y_test_pred)\n",
    "\n",
    "# Print the performance metrics\n",
    "print(\"Training accuracy: \", train_acc)\n",
    "print(\"Training precision: \", train_prec)\n",
    "print(\"Training recall: \", train_rec)\n",
    "print(\"Training f1: \", train_f1)\n",
    "print(\"Test accuracy: \", test_acc)\n",
    "print(\"Test precision: \", test_prec)\n",
    "print(\"Test recall: \", test_rec)\n",
    "print(\"Test f1: \", test_f1)"
   ]
  },
  {
   "cell_type": "markdown",
   "id": "73c095b3",
   "metadata": {
    "id": "73c095b3"
   },
   "source": [
    "## Random Forest (GridSearchCV)"
   ]
  },
  {
   "cell_type": "code",
   "execution_count": 9,
   "id": "37fd6dd9",
   "metadata": {
    "id": "37fd6dd9",
    "outputId": "c39c3a11-94f3-4964-ad1f-be3d1408ec7a"
   },
   "outputs": [
    {
     "name": "stdout",
     "output_type": "stream",
     "text": [
      "\n",
      " The best parameters across ALL searched params:\n",
      " {'max_depth': 8, 'min_samples_split': 8, 'n_estimators': 50}\n"
     ]
    },
    {
     "data": {
      "text/html": [
       "<div>\n",
       "<style scoped>\n",
       "    .dataframe tbody tr th:only-of-type {\n",
       "        vertical-align: middle;\n",
       "    }\n",
       "\n",
       "    .dataframe tbody tr th {\n",
       "        vertical-align: top;\n",
       "    }\n",
       "\n",
       "    .dataframe thead th {\n",
       "        text-align: right;\n",
       "    }\n",
       "</style>\n",
       "<table border=\"1\" class=\"dataframe\">\n",
       "  <thead>\n",
       "    <tr style=\"text-align: right;\">\n",
       "      <th></th>\n",
       "      <th>Actual</th>\n",
       "      <th>Predicted</th>\n",
       "    </tr>\n",
       "  </thead>\n",
       "  <tbody>\n",
       "    <tr>\n",
       "      <th>40997</th>\n",
       "      <td>1</td>\n",
       "      <td>1</td>\n",
       "    </tr>\n",
       "    <tr>\n",
       "      <th>6610</th>\n",
       "      <td>0</td>\n",
       "      <td>0</td>\n",
       "    </tr>\n",
       "    <tr>\n",
       "      <th>1150</th>\n",
       "      <td>1</td>\n",
       "      <td>1</td>\n",
       "    </tr>\n",
       "    <tr>\n",
       "      <th>86681</th>\n",
       "      <td>1</td>\n",
       "      <td>0</td>\n",
       "    </tr>\n",
       "    <tr>\n",
       "      <th>111649</th>\n",
       "      <td>0</td>\n",
       "      <td>0</td>\n",
       "    </tr>\n",
       "    <tr>\n",
       "      <th>65028</th>\n",
       "      <td>0</td>\n",
       "      <td>0</td>\n",
       "    </tr>\n",
       "    <tr>\n",
       "      <th>137856</th>\n",
       "      <td>0</td>\n",
       "      <td>0</td>\n",
       "    </tr>\n",
       "    <tr>\n",
       "      <th>10615</th>\n",
       "      <td>0</td>\n",
       "      <td>0</td>\n",
       "    </tr>\n",
       "    <tr>\n",
       "      <th>74506</th>\n",
       "      <td>1</td>\n",
       "      <td>1</td>\n",
       "    </tr>\n",
       "    <tr>\n",
       "      <th>74662</th>\n",
       "      <td>0</td>\n",
       "      <td>0</td>\n",
       "    </tr>\n",
       "  </tbody>\n",
       "</table>\n",
       "</div>"
      ],
      "text/plain": [
       "        Actual  Predicted\n",
       "40997        1          1\n",
       "6610         0          0\n",
       "1150         1          1\n",
       "86681        1          0\n",
       "111649       0          0\n",
       "65028        0          0\n",
       "137856       0          0\n",
       "10615        0          0\n",
       "74506        1          1\n",
       "74662        0          0"
      ]
     },
     "execution_count": 9,
     "metadata": {},
     "output_type": "execute_result"
    }
   ],
   "source": [
    "# Create a random forest classifier\n",
    "rf = RandomForestClassifier()\n",
    "\n",
    "# Define the parameter grid to search over\n",
    "param_grid = {\n",
    "    'n_estimators': [50, 100, 200],\n",
    "    'max_depth': [2, 4, 6, 8],\n",
    "    'min_samples_split': [2, 4, 8]\n",
    "}\n",
    "\n",
    "# Create the GridSearchCV object\n",
    "grid_search = GridSearchCV(estimator=rf, param_grid=param_grid, cv=5, n_jobs=-1)\n",
    "\n",
    "# Fit the GridSearchCV object to the training data\n",
    "grid_search.fit(X_train_norm, y_train)\n",
    "\n",
    "# Get the best model from the GridSearchCV object\n",
    "best_model_rf = grid_search.best_estimator_\n",
    "\n",
    "# Get the best set of params\n",
    "print(\"\\n The best parameters across ALL searched params:\\n\",grid_search.best_params_)\n",
    "\n",
    "# Use the best model to make predictions on the test set\n",
    "y_pred = best_model_rf.predict(X_test_norm)\n",
    "results_df = pd.DataFrame({'Actual': y_test, 'Predicted': y_pred})\n",
    "results_df.sample(10)"
   ]
  },
  {
   "cell_type": "code",
   "execution_count": 10,
   "id": "83ed5e45",
   "metadata": {
    "id": "83ed5e45",
    "outputId": "3e751d83-f0f1-42cd-e353-ec3281201f93"
   },
   "outputs": [
    {
     "name": "stdout",
     "output_type": "stream",
     "text": [
      "Classification Report: \n",
      "              precision    recall  f1-score   support\n",
      "\n",
      "           0       0.85      0.99      0.92     22494\n",
      "           1       0.96      0.44      0.61      7240\n",
      "\n",
      "    accuracy                           0.86     29734\n",
      "   macro avg       0.91      0.72      0.76     29734\n",
      "weighted avg       0.88      0.86      0.84     29734\n",
      "\n",
      "Confusion Matrix: \n",
      "[[22377   117]\n",
      " [ 4022  3218]]\n",
      "Accuracy:  0.8607990852223044\n",
      "Precision:  0.9649175412293853\n",
      "Recall:  0.444475138121547\n",
      "F1:  0.6086052009456265\n",
      "Time taken:  0:11:27.344929\n"
     ]
    },
    {
     "data": {
      "image/png": "[encoded data removed]",
      "text/plain": [
       "<Figure size 432x288 with 1 Axes>"
      ]
     },
     "metadata": {
      "needs_background": "light"
     },
     "output_type": "display_data"
    }
   ],
   "source": [
    "matrix = confusion_matrix(y_test,y_pred)\n",
    "\n",
    "labels = [0, 1]\n",
    "\n",
    "sns.heatmap(matrix, square=True, annot=True, fmt='d', cbar=False, cmap='Blues',\n",
    "            xticklabels=labels, yticklabels=labels)\n",
    "\n",
    "plt.xlabel('Predicted label')\n",
    "plt.ylabel('Actual label')\n",
    "\n",
    "report = classification_report(y_test,y_pred)\n",
    "accuracy = accuracy_score(y_test,y_pred)\n",
    "precision = precision_score(y_test,y_pred)\n",
    "recall = recall_score(y_test,y_pred)\n",
    "f1 = f1_score(y_test,y_pred)\n",
    "\n",
    "print(\"Classification Report: \")\n",
    "print(report)\n",
    "\n",
    "print(\"Confusion Matrix: \")\n",
    "print(matrix)\n",
    "\n",
    "print(\"Accuracy: \",accuracy)\n",
    "print(\"Precision: \",precision)\n",
    "print(\"Recall: \",recall)\n",
    "print(\"F1: \", f1)\n",
    "print('Time taken: ', datetime.now()-start)"
   ]
  },
  {
   "cell_type": "markdown",
   "id": "0729efa0",
   "metadata": {
    "id": "0729efa0"
   },
   "source": [
    "### Evaluating performance (GridSearchCV)"
   ]
  },
  {
   "cell_type": "code",
   "execution_count": 11,
   "id": "cb5724b9",
   "metadata": {
    "id": "cb5724b9",
    "outputId": "78804602-a4fc-446b-8076-6f2410047c31"
   },
   "outputs": [
    {
     "name": "stdout",
     "output_type": "stream",
     "text": [
      "Training accuracy:  0.8616650971951302\n",
      "Training precision:  0.9711748434997817\n",
      "Training recall:  0.45382496003265416\n",
      "Training f1:  0.618587291652178\n",
      "Test accuracy:  0.8607990852223044\n",
      "Test precision:  0.9649175412293853\n",
      "Test recall:  0.444475138121547\n",
      "Test f1:  0.6086052009456265\n"
     ]
    }
   ],
   "source": [
    "# Evaluate performance on the training set\n",
    "y_train_pred = best_model_rf.predict(X_train_norm)\n",
    "train_acc = accuracy_score(y_train, y_train_pred)\n",
    "train_prec = precision_score(y_train, y_train_pred)\n",
    "train_rec = recall_score(y_train, y_train_pred)\n",
    "train_f1 = f1_score(y_train, y_train_pred)\n",
    "\n",
    "# Evaluate performance on the test set\n",
    "y_test_pred = best_model_rf.predict(X_test_norm)\n",
    "test_acc = accuracy_score(y_test, y_test_pred)\n",
    "test_prec = precision_score(y_test, y_test_pred)\n",
    "test_rec = recall_score(y_test, y_test_pred)\n",
    "test_f1 = f1_score(y_test, y_test_pred)\n",
    "\n",
    "# Print the performance metrics\n",
    "print(\"Training accuracy: \", train_acc)\n",
    "print(\"Training precision: \", train_prec)\n",
    "print(\"Training recall: \", train_rec)\n",
    "print(\"Training f1: \", train_f1)\n",
    "print(\"Test accuracy: \", test_acc)\n",
    "print(\"Test precision: \", test_prec)\n",
    "print(\"Test recall: \", test_rec)\n",
    "print(\"Test f1: \", test_f1)"
   ]
  },
  {
   "cell_type": "markdown",
   "id": "ba8da5e0",
   "metadata": {
    "id": "ba8da5e0"
   },
   "source": [
    "## Multilayer Perceptron"
   ]
  },
  {
   "cell_type": "markdown",
   "id": "802ad6ab",
   "metadata": {
    "id": "802ad6ab"
   },
   "source": [
    "### MLP Classifier"
   ]
  },
  {
   "cell_type": "code",
   "execution_count": 26,
   "id": "f2003e18",
   "metadata": {
    "id": "f2003e18",
    "outputId": "6f8471fe-9a3c-4690-c30c-5d9c931eac51"
   },
   "outputs": [],
   "source": [
    "clf = MLPClassifier(hidden_layer_sizes=(20,10,5),activation=\"relu\").fit(X_train_norm, y_train)\n",
    "y_pred=clf.predict(X_test_norm)\n",
    "print(clf.score(X_test_norm, y_test))"
   ]
  },
  {
   "cell_type": "code",
   "execution_count": 28,
   "id": "8ca17e1c",
   "metadata": {
    "id": "8ca17e1c",
    "outputId": "6428d8f9-2511-4fc4-f476-270e342a2c6f"
   },
   "outputs": [],
   "source": [
    "matrix = confusion_matrix(y_test,y_pred)\n",
    "\n",
    "labels = [0, 1]\n",
    "\n",
    "sns.heatmap(matrix, square=True, annot=True, fmt='d', cbar=False, cmap='Blues',\n",
    "            xticklabels=labels, yticklabels=labels)\n",
    "\n",
    "report = classification_report(y_test,y_pred)\n",
    "accuracy = accuracy_score(y_test,y_pred)\n",
    "precision = precision_score(y_test,y_pred)\n",
    "recall = recall_score(y_test,y_pred)\n",
    "f1 = f1_score(y_test,y_pred)\n",
    "\n",
    "print(\"Classification Report: \")\n",
    "print(report)\n",
    "\n",
    "print(\"Confusion Matrix: \")\n",
    "print(matrix)\n",
    "\n",
    "print(\"Accuracy: \",accuracy)\n",
    "print(\"Precision: \",precision)\n",
    "print(\"Recall: \",recall)\n",
    "print(\"F1: \", f1)\n",
    "print('Time taken: ', datetime.now()-start)"
   ]
  },
  {
   "cell_type": "code",
   "execution_count": 29,
   "id": "t8a9GSCTs98S",
   "metadata": {
    "id": "t8a9GSCTs98S"
   },
   "outputs": [],
   "source": [
    "y_pred=clf.predict(X_train_norm)\n",
    "\n",
    "matrix = confusion_matrix(y_train,y_pred)\n",
    "\n",
    "labels = [0, 1]\n",
    "\n",
    "sns.heatmap(matrix, square=True, annot=True, fmt='d', cbar=False, cmap='Blues',\n",
    "            xticklabels=labels, yticklabels=labels)\n",
    "\n",
    "report = classification_report(y_train,y_pred)\n",
    "accuracy = accuracy_score(y_train,y_pred)\n",
    "precision = precision_score(y_train,y_pred)\n",
    "recall = recall_score(y_train,y_pred)\n",
    "f1 = f1_score(y_train,y_pred)\n",
    "\n",
    "print(\"Classification Report: \")\n",
    "print(report)\n",
    "\n",
    "print(\"Confusion Matrix: \")\n",
    "print(matrix)\n",
    "\n",
    "print(\"Accuracy: \",accuracy)\n",
    "print(\"Precision: \",precision)\n",
    "print(\"Recall: \",recall)\n",
    "print(\"F1: \", f1)\n",
    "print('Time taken: ', datetime.now()-start)"
   ]
  },
  {
   "cell_type": "markdown",
   "id": "19d54630",
   "metadata": {
    "id": "19d54630"
   },
   "source": [
    "## MLP - with GridSearchCV (hyperparameter tuning)"
   ]
  },
  {
   "cell_type": "code",
   "execution_count": 25,
   "id": "0c0889f9",
   "metadata": {
    "id": "0c0889f9",
    "outputId": "09d3104a-e900-44f4-f1c3-c9fbec76be78"
   },
   "outputs": [],
   "source": [
    "from sklearn.neural_network import MLPClassifier\n",
    "from sklearn.datasets import load_iris\n",
    "from sklearn.model_selection import train_test_split\n",
    "from sklearn.metrics import accuracy_score\n",
    "\n",
    "# Create an MLP classifier and fit it to the training data\n",
    "clf = MLPClassifier(hidden_layer_sizes=(5,10,20),max_iter=1000, random_state=42)\n",
    "clf.fit(X_train_norm, y_train)\n",
    "\n",
    "# Evaluate the classifier on the testing data\n",
    "y_pred = clf.predict(X_test_norm)\n",
    "accuracy = accuracy_score(y_test, y_pred)\n",
    "print(\"Accuracy: {:.2f}%\".format(accuracy*100))\n",
    "\n",
    "# Fine-tune the classifier using grid search\n",
    "from sklearn.model_selection import GridSearchCV\n",
    "\n",
    "params = {\n",
    "    'hidden_layer_sizes': [(5,10,20), (10,50,100), (50,100,200)],\n",
    "    'activation': ['relu', 'tanh', 'logistic'],\n",
    "    'solver': ['sgd', 'adam'],\n",
    "    'alpha': [0.0001, 0.001, 0.01],\n",
    "    'learning_rate': ['constant', 'adaptive']\n",
    "}\n",
    "\n",
    "grid_search = GridSearchCV(clf, params, cv=5, n_jobs=-1)\n",
    "grid_search.fit(X_train_norm, y_train)\n",
    "\n",
    "# Print the best hyperparameters found by grid search\n",
    "print(\"Best parameters:\", grid_search.best_params_)\n",
    "\n",
    "# Evaluate the fine-tuned classifier on the testing data\n",
    "y_pred = grid_search.predict(X_test_norm)\n",
    "\n",
    "accuracy = accuracy_score(y_test,y_pred)\n",
    "precision = precision_score(y_test,y_pred)\n",
    "recall = recall_score(y_test,y_pred)\n",
    "f1 = f1_score(y_test,y_pred)\n",
    "print(\"Accuracy: \",accuracy)\n",
    "print(\"Precision: \",precision)\n",
    "print(\"Recall: \",recall)\n",
    "print(\"F1: \", f1)\n",
    "print('Time taken: ', datetime.now()-start)"
   ]
  },
  {
   "cell_type": "code",
   "execution_count": null,
   "id": "TRzwu5rgtjPY",
   "metadata": {
    "id": "TRzwu5rgtjPY"
   },
   "outputs": [],
   "source": [
    "y_pred = grid_search.predict(X_train_norm)\n",
    "accuracy = accuracy_score(y_train,y_pred)\n",
    "precision = precision_score(y_train,y_pred)\n",
    "recall = recall_score(y_train,y_pred)\n",
    "f1 = f1_score(y_train,y_pred)\n",
    "print(\"Accuracy: \",accuracy)\n",
    "print(\"Precision: \",precision)\n",
    "print(\"Recall: \",recall)\n",
    "print(\"F1: \", f1)\n",
    "print('Time taken: ', datetime.now()-start)"
   ]
  },
  {
   "cell_type": "markdown",
   "id": "064cc04c",
   "metadata": {
    "id": "064cc04c"
   },
   "source": [
    "## XGBoost"
   ]
  },
  {
   "cell_type": "code",
   "execution_count": 40,
   "id": "6bea19a5",
   "metadata": {
    "id": "6bea19a5"
   },
   "outputs": [],
   "source": [
    "from xgboost import XGBClassifier\n",
    "model = XGBClassifier(objective='binary:logistic', use_label_encoder=False, eval_metric='logloss', random_state=42)\n",
    "\n",
    "model.fit(X_train_norm, y_train)\n",
    "\n",
    "y_pred = model.predict(X_test_norm)"
   ]
  },
  {
   "cell_type": "code",
   "execution_count": 41,
   "id": "da98d19e",
   "metadata": {
    "id": "da98d19e"
   },
   "outputs": [
    {
     "name": "stdout",
     "output_type": "stream",
     "text": [
      "Classification Report: \n",
      "              precision    recall  f1-score   support\n",
      "\n",
      "           0       0.89      0.97      0.93     22494\n",
      "           1       0.88      0.61      0.72      7240\n",
      "\n",
      "    accuracy                           0.89     29734\n",
      "   macro avg       0.88      0.79      0.82     29734\n",
      "weighted avg       0.89      0.89      0.88     29734\n",
      "\n",
      "Confusion Matrix: \n",
      "[[21912   582]\n",
      " [ 2824  4416]]\n",
      "Accuracy:  0.8854509988565279\n",
      "Precision:  0.8835534213685474\n",
      "Recall:  0.6099447513812155\n",
      "F1:  0.721686550089884\n",
      "Time taken:  4:20:15.977165\n"
     ]
    },
    {
     "data": {
      "image/png": "[encoded data removed]",
      "text/plain": [
       "<Figure size 432x288 with 1 Axes>"
      ]
     },
     "metadata": {
      "needs_background": "light"
     },
     "output_type": "display_data"
    }
   ],
   "source": [
    "matrix = confusion_matrix(y_test,y_pred)\n",
    "\n",
    "labels = [0, 1]\n",
    "\n",
    "sns.heatmap(matrix, square=True, annot=True, fmt='d', cbar=False, cmap='Blues',\n",
    "            xticklabels=labels, yticklabels=labels)\n",
    "\n",
    "plt.xlabel('Predicted label')\n",
    "plt.ylabel('Actual label')\n",
    "\n",
    "report = classification_report(y_test,y_pred)\n",
    "accuracy = accuracy_score(y_test,y_pred)\n",
    "precision = precision_score(y_test,y_pred)\n",
    "recall = recall_score(y_test,y_pred)\n",
    "f1 = f1_score(y_test,y_pred)\n",
    "\n",
    "print(\"Classification Report: \")\n",
    "print(report)\n",
    "\n",
    "print(\"Confusion Matrix: \")\n",
    "print(matrix)\n",
    "\n",
    "print(\"Accuracy: \",accuracy)\n",
    "print(\"Precision: \",precision)\n",
    "print(\"Recall: \",recall)\n",
    "print(\"F1: \", f1)\n",
    "print('Time taken: ', datetime.now()-start)"
   ]
  },
  {
   "cell_type": "code",
   "execution_count": 42,
   "id": "74AEqgPWuUgQ",
   "metadata": {
    "id": "74AEqgPWuUgQ"
   },
   "outputs": [
    {
     "name": "stdout",
     "output_type": "stream",
     "text": [
      "Training accuracy:  0.9153242079773997\n",
      "Training precision:  0.948445475638051\n",
      "Training recall:  0.695227728834314\n",
      "Training f1:  0.8023317435082141\n",
      "Test accuracy:  0.8854509988565279\n",
      "Test precision:  0.8835534213685474\n",
      "Test recall:  0.6099447513812155\n",
      "Test f1:  0.721686550089884\n"
     ]
    }
   ],
   "source": [
    "# Evaluate performance on the training set\n",
    "y_train_pred = model.predict(X_train_norm)\n",
    "train_acc = accuracy_score(y_train, y_train_pred)\n",
    "train_prec = precision_score(y_train, y_train_pred)\n",
    "train_rec = recall_score(y_train, y_train_pred)\n",
    "train_f1 = f1_score(y_train, y_train_pred)\n",
    "\n",
    "# Evaluate performance on the test set\n",
    "y_test_pred = model.predict(X_test_norm)\n",
    "test_acc = accuracy_score(y_test, y_test_pred)\n",
    "test_prec = precision_score(y_test, y_test_pred)\n",
    "test_rec = recall_score(y_test, y_test_pred)\n",
    "test_f1 = f1_score(y_test, y_test_pred)\n",
    "\n",
    "# Print the performance metrics\n",
    "print(\"Training accuracy: \", train_acc)\n",
    "print(\"Training precision: \", train_prec)\n",
    "print(\"Training recall: \", train_rec)\n",
    "print(\"Training f1: \", train_f1)\n",
    "print(\"Test accuracy: \", test_acc)\n",
    "print(\"Test precision: \", test_prec)\n",
    "print(\"Test recall: \", test_rec)\n",
    "print(\"Test f1: \", test_f1)"
   ]
  },
  {
   "cell_type": "markdown",
   "id": "wqHyi3fTugzV",
   "metadata": {
    "id": "wqHyi3fTugzV"
   },
   "source": [
    "## XGBoost With Hyperparameter Tuning"
   ]
  },
  {
   "cell_type": "code",
   "execution_count": 43,
   "id": "RVE3qDC2vfeR",
   "metadata": {
    "id": "RVE3qDC2vfeR"
   },
   "outputs": [
    {
     "name": "stdout",
     "output_type": "stream",
     "text": [
      "Best parameters: {'gamma': 1, 'learning_rate': 0.1, 'max_depth': 7, 'n_estimators': 500}\n",
      "Best score: 0.8935393876553747\n"
     ]
    }
   ],
   "source": [
    "# Define the parameter grid to search\n",
    "params = {\n",
    "    'max_depth': [3, 5, 7],\n",
    "    'learning_rate': [0.1, 0.01],\n",
    "    'n_estimators': [100, 500],\n",
    "    'gamma': [0, 1, 5],\n",
    "}\n",
    "\n",
    "# Create an XGBoost model\n",
    "xgb_model = XGBClassifier()\n",
    "\n",
    "# Create a GridSearchCV object\n",
    "grid_search = GridSearchCV(\n",
    "    xgb_model,\n",
    "    param_grid=params,\n",
    "    cv=5,\n",
    "    n_jobs=-1,\n",
    ")\n",
    "\n",
    "# Fit the GridSearchCV object to the data\n",
    "grid_search.fit(X_train_norm, y_train)\n",
    "\n",
    "# Evaluate the fine-tuned classifier on the testing data\n",
    "y_pred = grid_search.predict(X_test_norm)\n",
    "\n",
    "# Print the best parameters and the corresponding score\n",
    "print('Best parameters:', grid_search.best_params_)\n",
    "print('Best score:', grid_search.best_score_)"
   ]
  },
  {
   "cell_type": "code",
   "execution_count": 44,
   "id": "Ld5Avdm5vpmx",
   "metadata": {
    "id": "Ld5Avdm5vpmx"
   },
   "outputs": [
    {
     "name": "stdout",
     "output_type": "stream",
     "text": [
      "Classification Report: \n",
      "              precision    recall  f1-score   support\n",
      "\n",
      "           0       0.90      0.97      0.93     22494\n",
      "           1       0.89      0.65      0.75      7240\n",
      "\n",
      "    accuracy                           0.90     29734\n",
      "   macro avg       0.90      0.81      0.84     29734\n",
      "weighted avg       0.90      0.90      0.89     29734\n",
      "\n",
      "Confusion Matrix: \n",
      "[[21928   566]\n",
      " [ 2515  4725]]\n",
      "Accuracy:  0.8963812470572409\n",
      "Precision:  0.8930258930258931\n",
      "Recall:  0.6526243093922652\n",
      "F1:  0.7541297581996648\n",
      "Time taken:  4:59:16.125315\n"
     ]
    },
    {
     "data": {
      "image/png": "[encoded data removed]",
      "text/plain": [
       "<Figure size 432x288 with 1 Axes>"
      ]
     },
     "metadata": {
      "needs_background": "light"
     },
     "output_type": "display_data"
    }
   ],
   "source": [
    "# generate classification report\n",
    "\n",
    "matrix = confusion_matrix(y_test,y_pred)\n",
    "\n",
    "labels = [0, 1]\n",
    "\n",
    "sns.heatmap(matrix, square=True, annot=True, fmt='d', cbar=False, cmap='Blues',\n",
    "            xticklabels=labels, yticklabels=labels)\n",
    "\n",
    "plt.xlabel('Predicted label')\n",
    "plt.ylabel('Actual label')\n",
    "\n",
    "report = classification_report(y_test,y_pred)\n",
    "accuracy = accuracy_score(y_test,y_pred)\n",
    "precision = precision_score(y_test,y_pred)\n",
    "recall = recall_score(y_test,y_pred)\n",
    "f1 = f1_score(y_test,y_pred)\n",
    "\n",
    "print(\"Classification Report: \")\n",
    "print(report)\n",
    "\n",
    "print(\"Confusion Matrix: \")\n",
    "print(matrix)\n",
    "\n",
    "print(\"Accuracy: \",accuracy)\n",
    "print(\"Precision: \",precision)\n",
    "print(\"Recall: \",recall)\n",
    "print(\"F1: \", f1)\n",
    "print('Time taken: ', datetime.now()-start)"
   ]
  },
  {
   "cell_type": "code",
   "execution_count": 45,
   "id": "mSpzy074vvjx",
   "metadata": {
    "id": "mSpzy074vvjx"
   },
   "outputs": [
    {
     "name": "stdout",
     "output_type": "stream",
     "text": [
      "Training accuracy:  0.9539247998923791\n",
      "Training precision:  0.9825686962837429\n",
      "Training recall:  0.8282934793700466\n",
      "Training f1:  0.8988593998006718\n",
      "Test accuracy:  0.8963812470572409\n",
      "Test precision:  0.8930258930258931\n",
      "Test recall:  0.6526243093922652\n",
      "Test f1:  0.7541297581996648\n"
     ]
    }
   ],
   "source": [
    "# Evaluate performance on the training set\n",
    "y_train_pred = grid_search.predict(X_train_norm)\n",
    "train_acc = accuracy_score(y_train, y_train_pred)\n",
    "train_prec = precision_score(y_train, y_train_pred)\n",
    "train_rec = recall_score(y_train, y_train_pred)\n",
    "train_f1 = f1_score(y_train, y_train_pred)\n",
    "\n",
    "# Evaluate performance on the test set\n",
    "y_test_pred = grid_search.predict(X_test_norm)\n",
    "test_acc = accuracy_score(y_test, y_test_pred)\n",
    "test_prec = precision_score(y_test, y_test_pred)\n",
    "test_rec = recall_score(y_test, y_test_pred)\n",
    "test_f1 = f1_score(y_test, y_test_pred)\n",
    "\n",
    "# Print the performance metrics\n",
    "print(\"Training accuracy: \", train_acc)\n",
    "print(\"Training precision: \", train_prec)\n",
    "print(\"Training recall: \", train_rec)\n",
    "print(\"Training f1: \", train_f1)\n",
    "print(\"Test accuracy: \", test_acc)\n",
    "print(\"Test precision: \", test_prec)\n",
    "print(\"Test recall: \", test_rec)\n",
    "print(\"Test f1: \", test_f1)"
   ]
  },
  {
   "cell_type": "markdown",
   "id": "97320336",
   "metadata": {
    "id": "97320336"
   },
   "source": [
    "## Ensemble Method - Stacking"
   ]
  },
  {
   "cell_type": "code",
   "execution_count": 46,
   "id": "f9d52ae4",
   "metadata": {
    "id": "f9d52ae4"
   },
   "outputs": [
    {
     "name": "stdout",
     "output_type": "stream",
     "text": [
      "Accuracy:  0.9505952781327773\n",
      "Precision:  0.9046417052306829\n",
      "Recall:  0.8910220994475138\n",
      "F1:  0.8977802518961797\n",
      "Time taken:  5:37:08.686282\n"
     ]
    }
   ],
   "source": [
    "clf1 = LogisticRegression()\n",
    "clf2 = GaussianNB()\n",
    "clf3 = SVC()\n",
    "clf4 = RandomForestClassifier()\n",
    "clf5 = MLPClassifier()\n",
    "\n",
    "# Create the stacking classifier\n",
    "estimators = [('lr', clf1), ('nb', clf2), ('svm', clf3), ('rf', clf4), ('nn', clf5)]\n",
    "clf_stack = StackingClassifier(estimators=estimators, final_estimator=LogisticRegression())\n",
    " \n",
    "# Train the stacking classifier\n",
    "clf_stack.fit(X_train_norm, y_train)\n",
    "\n",
    "# Evaluate the stacking classifier on the testing data\n",
    "y_pred = clf_stack.predict(X_test_norm)\n",
    "accuracy = accuracy_score(y_test, y_pred)\n",
    "precision = precision_score(y_test, y_pred)\n",
    "recall = recall_score(y_test, y_pred)\n",
    "f1 = f1_score(y_test, y_pred)\n",
    "print(\"Accuracy: \",accuracy)\n",
    "print(\"Precision: \",precision)\n",
    "print(\"Recall: \",recall)\n",
    "print(\"F1: \", f1)\n",
    "print('Time taken: ', datetime.now()-start)"
   ]
  },
  {
   "cell_type": "code",
   "execution_count": 47,
   "id": "-LRXBTX7utnW",
   "metadata": {
    "id": "-LRXBTX7utnW"
   },
   "outputs": [
    {
     "name": "stdout",
     "output_type": "stream",
     "text": [
      "Accuracy:  0.9696811730678684\n",
      "Precision:  0.9391792950791759\n",
      "Recall:  0.93809313241947\n",
      "F1:  0.9386358995303247\n",
      "Time taken:  5:42:07.231439\n"
     ]
    }
   ],
   "source": [
    "y_pred = clf_stack.predict(X_train_norm)\n",
    "accuracy = accuracy_score(y_train, y_pred)\n",
    "precision = precision_score(y_train, y_pred)\n",
    "recall = recall_score(y_train, y_pred)\n",
    "f1 = f1_score(y_train, y_pred)\n",
    "print(\"Accuracy: \",accuracy)\n",
    "print(\"Precision: \",precision)\n",
    "print(\"Recall: \",recall)\n",
    "print(\"F1: \", f1)\n",
    "print('Time taken: ', datetime.now()-start)"
   ]
  },
  {
   "cell_type": "markdown",
   "id": "c38c5240",
   "metadata": {
    "id": "c38c5240"
   },
   "source": [
    "# FUTURE WORK"
   ]
  },
  {
   "cell_type": "markdown",
   "id": "cb8f82a6",
   "metadata": {
    "id": "cb8f82a6"
   },
   "source": [
    "## Ensemble Method - Boosting"
   ]
  },
  {
   "cell_type": "markdown",
   "id": "4b2f7db6",
   "metadata": {
    "id": "4b2f7db6"
   },
   "source": [
    "### Logistic Regression "
   ]
  },
  {
   "cell_type": "code",
   "execution_count": 48,
   "id": "c32b6609",
   "metadata": {
    "id": "c32b6609"
   },
   "outputs": [
    {
     "data": {
      "text/html": [
       "<div>\n",
       "<style scoped>\n",
       "    .dataframe tbody tr th:only-of-type {\n",
       "        vertical-align: middle;\n",
       "    }\n",
       "\n",
       "    .dataframe tbody tr th {\n",
       "        vertical-align: top;\n",
       "    }\n",
       "\n",
       "    .dataframe thead th {\n",
       "        text-align: right;\n",
       "    }\n",
       "</style>\n",
       "<table border=\"1\" class=\"dataframe\">\n",
       "  <thead>\n",
       "    <tr style=\"text-align: right;\">\n",
       "      <th></th>\n",
       "      <th>Actual</th>\n",
       "      <th>Predicted</th>\n",
       "    </tr>\n",
       "  </thead>\n",
       "  <tbody>\n",
       "    <tr>\n",
       "      <th>11547</th>\n",
       "      <td>0</td>\n",
       "      <td>0</td>\n",
       "    </tr>\n",
       "    <tr>\n",
       "      <th>31670</th>\n",
       "      <td>1</td>\n",
       "      <td>1</td>\n",
       "    </tr>\n",
       "    <tr>\n",
       "      <th>41241</th>\n",
       "      <td>0</td>\n",
       "      <td>0</td>\n",
       "    </tr>\n",
       "    <tr>\n",
       "      <th>62488</th>\n",
       "      <td>0</td>\n",
       "      <td>0</td>\n",
       "    </tr>\n",
       "    <tr>\n",
       "      <th>102886</th>\n",
       "      <td>0</td>\n",
       "      <td>0</td>\n",
       "    </tr>\n",
       "    <tr>\n",
       "      <th>46391</th>\n",
       "      <td>0</td>\n",
       "      <td>0</td>\n",
       "    </tr>\n",
       "    <tr>\n",
       "      <th>121262</th>\n",
       "      <td>0</td>\n",
       "      <td>0</td>\n",
       "    </tr>\n",
       "    <tr>\n",
       "      <th>13183</th>\n",
       "      <td>0</td>\n",
       "      <td>0</td>\n",
       "    </tr>\n",
       "    <tr>\n",
       "      <th>123828</th>\n",
       "      <td>1</td>\n",
       "      <td>0</td>\n",
       "    </tr>\n",
       "    <tr>\n",
       "      <th>4346</th>\n",
       "      <td>1</td>\n",
       "      <td>0</td>\n",
       "    </tr>\n",
       "  </tbody>\n",
       "</table>\n",
       "</div>"
      ],
      "text/plain": [
       "        Actual  Predicted\n",
       "11547        0          0\n",
       "31670        1          1\n",
       "41241        0          0\n",
       "62488        0          0\n",
       "102886       0          0\n",
       "46391        0          0\n",
       "121262       0          0\n",
       "13183        0          0\n",
       "123828       1          0\n",
       "4346         1          0"
      ]
     },
     "execution_count": 48,
     "metadata": {},
     "output_type": "execute_result"
    }
   ],
   "source": [
    "logreg = LogisticRegression(random_state=42)\n",
    "model = AdaBoostClassifier(base_estimator=logreg,n_estimators=50,learning_rate=0.1, random_state=42)\n",
    "\n",
    "#Fit the training feature Xs and training label Ys\n",
    "model.fit(X_train_norm, y_train)\n",
    "\n",
    "#Use the trained model to predict the test data\n",
    "predictions = model.predict(X_test_norm)\n",
    "\n",
    "results_df = pd.DataFrame({'Actual': y_test, 'Predicted': predictions})\n",
    "results_df.sample(10)\n"
   ]
  },
  {
   "cell_type": "code",
   "execution_count": 49,
   "id": "d29f3e8e",
   "metadata": {
    "id": "d29f3e8e"
   },
   "outputs": [
    {
     "name": "stdout",
     "output_type": "stream",
     "text": [
      "Classification Report: \n",
      "              precision    recall  f1-score   support\n",
      "\n",
      "           0       0.85      0.99      0.92     22494\n",
      "           1       0.95      0.45      0.61      7240\n",
      "\n",
      "    accuracy                           0.86     29734\n",
      "   macro avg       0.90      0.72      0.77     29734\n",
      "weighted avg       0.88      0.86      0.84     29734\n",
      "\n",
      "Confusion Matrix: \n",
      "[[22336   158]\n",
      " [ 3955  3285]]\n",
      "Accuracy:  0.8616735050783615\n",
      "Precision:  0.9541097879756026\n",
      "Recall:  0.4537292817679558\n",
      "F1:  0.6149957877000842\n",
      "Time taken:  5:42:11.757787\n"
     ]
    },
    {
     "data": {
      "image/png": "[encoded data removed]",
      "text/plain": [
       "<Figure size 432x288 with 1 Axes>"
      ]
     },
     "metadata": {
      "needs_background": "light"
     },
     "output_type": "display_data"
    }
   ],
   "source": [
    "matrix = confusion_matrix(y_test,predictions)\n",
    "\n",
    "labels = [0, 1]\n",
    "\n",
    "sns.heatmap(matrix, square=True, annot=True, fmt='d', cbar=False, cmap='Blues',\n",
    "            xticklabels=labels, yticklabels=labels)\n",
    "\n",
    "report = classification_report(y_test,predictions)\n",
    "accuracy = accuracy_score(y_test,predictions)\n",
    "precision = precision_score(y_test,predictions)\n",
    "recall = recall_score(y_test,predictions)\n",
    "f1 = f1_score(y_test,predictions)\n",
    "\n",
    "print(\"Classification Report: \")\n",
    "print(report)\n",
    "\n",
    "print(\"Confusion Matrix: \")\n",
    "print(matrix)\n",
    "\n",
    "print(\"Accuracy: \", accuracy)\n",
    "print(\"Precision: \",precision)\n",
    "print(\"Recall: \",recall)\n",
    "print(\"F1: \",f1)\n",
    "print('Time taken: ', datetime.now()-start)"
   ]
  },
  {
   "cell_type": "markdown",
   "id": "73f56ae9",
   "metadata": {
    "id": "73f56ae9"
   },
   "source": [
    "### Naive Bayes "
   ]
  },
  {
   "cell_type": "code",
   "execution_count": 50,
   "id": "98d88eff",
   "metadata": {
    "id": "98d88eff"
   },
   "outputs": [
    {
     "data": {
      "text/html": [
       "<div>\n",
       "<style scoped>\n",
       "    .dataframe tbody tr th:only-of-type {\n",
       "        vertical-align: middle;\n",
       "    }\n",
       "\n",
       "    .dataframe tbody tr th {\n",
       "        vertical-align: top;\n",
       "    }\n",
       "\n",
       "    .dataframe thead th {\n",
       "        text-align: right;\n",
       "    }\n",
       "</style>\n",
       "<table border=\"1\" class=\"dataframe\">\n",
       "  <thead>\n",
       "    <tr style=\"text-align: right;\">\n",
       "      <th></th>\n",
       "      <th>Actual</th>\n",
       "      <th>Predicted</th>\n",
       "    </tr>\n",
       "  </thead>\n",
       "  <tbody>\n",
       "    <tr>\n",
       "      <th>256</th>\n",
       "      <td>0</td>\n",
       "      <td>0</td>\n",
       "    </tr>\n",
       "    <tr>\n",
       "      <th>2104</th>\n",
       "      <td>0</td>\n",
       "      <td>0</td>\n",
       "    </tr>\n",
       "    <tr>\n",
       "      <th>120826</th>\n",
       "      <td>0</td>\n",
       "      <td>0</td>\n",
       "    </tr>\n",
       "    <tr>\n",
       "      <th>88714</th>\n",
       "      <td>0</td>\n",
       "      <td>0</td>\n",
       "    </tr>\n",
       "    <tr>\n",
       "      <th>33905</th>\n",
       "      <td>0</td>\n",
       "      <td>0</td>\n",
       "    </tr>\n",
       "    <tr>\n",
       "      <th>12808</th>\n",
       "      <td>0</td>\n",
       "      <td>0</td>\n",
       "    </tr>\n",
       "    <tr>\n",
       "      <th>88311</th>\n",
       "      <td>1</td>\n",
       "      <td>0</td>\n",
       "    </tr>\n",
       "    <tr>\n",
       "      <th>67069</th>\n",
       "      <td>1</td>\n",
       "      <td>1</td>\n",
       "    </tr>\n",
       "    <tr>\n",
       "      <th>35015</th>\n",
       "      <td>0</td>\n",
       "      <td>0</td>\n",
       "    </tr>\n",
       "    <tr>\n",
       "      <th>132008</th>\n",
       "      <td>0</td>\n",
       "      <td>0</td>\n",
       "    </tr>\n",
       "  </tbody>\n",
       "</table>\n",
       "</div>"
      ],
      "text/plain": [
       "        Actual  Predicted\n",
       "256          0          0\n",
       "2104         0          0\n",
       "120826       0          0\n",
       "88714        0          0\n",
       "33905        0          0\n",
       "12808        0          0\n",
       "88311        1          0\n",
       "67069        1          1\n",
       "35015        0          0\n",
       "132008       0          0"
      ]
     },
     "execution_count": 50,
     "metadata": {},
     "output_type": "execute_result"
    }
   ],
   "source": [
    "naive_bayes = GaussianNB()\n",
    "\n",
    "model = AdaBoostClassifier(base_estimator=naive_bayes, n_estimators=50, learning_rate=0.1, random_state=42)\n",
    "\n",
    "#Fit the training feature Xs and training label Ys\n",
    "model.fit(X_train_norm, y_train)\n",
    "\n",
    "#Use the trained model to predict the test data\n",
    "predictions = model.predict(X_test_norm)\n",
    "results_df = pd.DataFrame({'Actual': y_test, 'Predicted': predictions})\n",
    "results_df.sample(10) "
   ]
  },
  {
   "cell_type": "code",
   "execution_count": 51,
   "id": "855426f6",
   "metadata": {
    "id": "855426f6"
   },
   "outputs": [
    {
     "name": "stdout",
     "output_type": "stream",
     "text": [
      "Classification Report: \n",
      "              precision    recall  f1-score   support\n",
      "\n",
      "           0       0.85      0.98      0.91     22494\n",
      "           1       0.89      0.47      0.61      7240\n",
      "\n",
      "    accuracy                           0.86     29734\n",
      "   macro avg       0.87      0.73      0.76     29734\n",
      "weighted avg       0.86      0.86      0.84     29734\n",
      "\n",
      "Confusion Matrix: \n",
      "[[22068   426]\n",
      " [ 3836  3404]]\n",
      "Accuracy:  0.8566624066724962\n",
      "Precision:  0.8887728459530027\n",
      "Recall:  0.47016574585635357\n",
      "F1:  0.6149954832881662\n",
      "Time taken:  5:42:18.297638\n"
     ]
    },
    {
     "data": {
      "image/png": "[encoded data removed]",
      "text/plain": [
       "<Figure size 432x288 with 1 Axes>"
      ]
     },
     "metadata": {
      "needs_background": "light"
     },
     "output_type": "display_data"
    }
   ],
   "source": [
    "nb_confusion_matrix = confusion_matrix(y_test,predictions)\n",
    "\n",
    "labels = [0, 1]\n",
    "\n",
    "sns.heatmap(nb_confusion_matrix, square=True, annot=True, fmt='d', cbar=False, cmap='Blues',\n",
    "            xticklabels=labels, yticklabels=labels)\n",
    "\n",
    "nb_classification_report = classification_report(y_test,predictions)\n",
    "nb_accuracy = accuracy_score(y_test,predictions)\n",
    "nb_precision = precision_score(y_test,predictions)\n",
    "nb_recall = recall_score(y_test,predictions)\n",
    "nb_f1 = f1_score(y_test,predictions)\n",
    "\n",
    "print(\"Classification Report: \")\n",
    "print(nb_classification_report)\n",
    "\n",
    "print(\"Confusion Matrix: \")\n",
    "print(nb_confusion_matrix)\n",
    "\n",
    "print(\"Accuracy: \", nb_accuracy)\n",
    "print(\"Precision: \",nb_precision)\n",
    "print(\"Recall: \",nb_recall)\n",
    "print(\"F1: \",nb_f1)\n",
    "print('Time taken: ', datetime.now()-start)"
   ]
  },
  {
   "cell_type": "markdown",
   "id": "e34726e0",
   "metadata": {
    "id": "e34726e0"
   },
   "source": [
    "### Support Vector Machine "
   ]
  },
  {
   "cell_type": "code",
   "execution_count": 52,
   "id": "fe306e7b",
   "metadata": {
    "id": "fe306e7b"
   },
   "outputs": [
    {
     "data": {
      "text/html": [
       "<div>\n",
       "<style scoped>\n",
       "    .dataframe tbody tr th:only-of-type {\n",
       "        vertical-align: middle;\n",
       "    }\n",
       "\n",
       "    .dataframe tbody tr th {\n",
       "        vertical-align: top;\n",
       "    }\n",
       "\n",
       "    .dataframe thead th {\n",
       "        text-align: right;\n",
       "    }\n",
       "</style>\n",
       "<table border=\"1\" class=\"dataframe\">\n",
       "  <thead>\n",
       "    <tr style=\"text-align: right;\">\n",
       "      <th></th>\n",
       "      <th>Actual</th>\n",
       "      <th>Predicted</th>\n",
       "    </tr>\n",
       "  </thead>\n",
       "  <tbody>\n",
       "    <tr>\n",
       "      <th>131187</th>\n",
       "      <td>1</td>\n",
       "      <td>0</td>\n",
       "    </tr>\n",
       "    <tr>\n",
       "      <th>144436</th>\n",
       "      <td>0</td>\n",
       "      <td>0</td>\n",
       "    </tr>\n",
       "    <tr>\n",
       "      <th>91737</th>\n",
       "      <td>1</td>\n",
       "      <td>0</td>\n",
       "    </tr>\n",
       "    <tr>\n",
       "      <th>113115</th>\n",
       "      <td>0</td>\n",
       "      <td>1</td>\n",
       "    </tr>\n",
       "    <tr>\n",
       "      <th>41186</th>\n",
       "      <td>0</td>\n",
       "      <td>0</td>\n",
       "    </tr>\n",
       "    <tr>\n",
       "      <th>105807</th>\n",
       "      <td>0</td>\n",
       "      <td>0</td>\n",
       "    </tr>\n",
       "    <tr>\n",
       "      <th>29489</th>\n",
       "      <td>0</td>\n",
       "      <td>0</td>\n",
       "    </tr>\n",
       "    <tr>\n",
       "      <th>41359</th>\n",
       "      <td>1</td>\n",
       "      <td>1</td>\n",
       "    </tr>\n",
       "    <tr>\n",
       "      <th>14278</th>\n",
       "      <td>0</td>\n",
       "      <td>0</td>\n",
       "    </tr>\n",
       "    <tr>\n",
       "      <th>12604</th>\n",
       "      <td>0</td>\n",
       "      <td>0</td>\n",
       "    </tr>\n",
       "  </tbody>\n",
       "</table>\n",
       "</div>"
      ],
      "text/plain": [
       "        Actual  Predicted\n",
       "131187       1          0\n",
       "144436       0          0\n",
       "91737        1          0\n",
       "113115       0          1\n",
       "41186        0          0\n",
       "105807       0          0\n",
       "29489        0          0\n",
       "41359        1          1\n",
       "14278        0          0\n",
       "12604        0          0"
      ]
     },
     "execution_count": 52,
     "metadata": {},
     "output_type": "execute_result"
    }
   ],
   "source": [
    "svm = LinearSVC(random_state=42)\n",
    "model = AdaBoostClassifier(n_estimators=50,learning_rate=0.1, base_estimator=svm,algorithm='SAMME', random_state=42)\n",
    "\n",
    "model.fit(X_train_norm, y_train)\n",
    "predictions = model.predict(X_test_norm)\n",
    "\n",
    "results_df = pd.DataFrame({'Actual': y_test, 'Predicted': predictions})\n",
    "results_df.sample(10)"
   ]
  },
  {
   "cell_type": "code",
   "execution_count": 53,
   "id": "a618b529",
   "metadata": {
    "id": "a618b529"
   },
   "outputs": [
    {
     "name": "stdout",
     "output_type": "stream",
     "text": [
      "Classification Report: \n",
      "              precision    recall  f1-score   support\n",
      "\n",
      "           0       0.86      0.96      0.91     22494\n",
      "           1       0.81      0.50      0.62      7240\n",
      "\n",
      "    accuracy                           0.85     29734\n",
      "   macro avg       0.83      0.73      0.76     29734\n",
      "weighted avg       0.85      0.85      0.84     29734\n",
      "\n",
      "Confusion Matrix: \n",
      "[[21616   878]\n",
      " [ 3586  3654]]\n",
      "Accuracy:  0.8498688370215914\n",
      "Precision:  0.8062665489849956\n",
      "Recall:  0.5046961325966851\n",
      "F1:  0.6207951070336392\n",
      "Time taken:  5:42:37.720494\n"
     ]
    },
    {
     "data": {
      "image/png": "[encoded data removed]",
      "text/plain": [
       "<Figure size 432x288 with 1 Axes>"
      ]
     },
     "metadata": {
      "needs_background": "light"
     },
     "output_type": "display_data"
    }
   ],
   "source": [
    "svm_confusion_matrix = confusion_matrix(y_test,predictions)\n",
    "\n",
    "labels = [0, 1]\n",
    "\n",
    "sns.heatmap(svm_confusion_matrix, square=True, annot=True, fmt='d', cbar=False, cmap='Blues',\n",
    "            xticklabels=labels, yticklabels=labels)\n",
    "\n",
    "svm_classification_report = classification_report(y_test,predictions)\n",
    "svm_accuracy = accuracy_score(y_test,predictions)\n",
    "svm_precision = precision_score(y_test,predictions)\n",
    "svm_recall = recall_score(y_test,predictions)\n",
    "svm_f1 = f1_score(y_test,predictions)\n",
    "\n",
    "print(\"Classification Report: \")\n",
    "print(svm_classification_report)\n",
    "\n",
    "print(\"Confusion Matrix: \")\n",
    "print(svm_confusion_matrix)\n",
    "\n",
    "print(\"Accuracy: \", svm_accuracy)\n",
    "print(\"Precision: \",svm_precision)\n",
    "print(\"Recall: \",svm_recall)\n",
    "print(\"F1: \",svm_f1)\n",
    "print('Time taken: ', datetime.now()-start)"
   ]
  },
  {
   "cell_type": "markdown",
   "id": "65e301db",
   "metadata": {
    "id": "65e301db"
   },
   "source": [
    "### Decision Tree (Hyperparameter Tuning)"
   ]
  },
  {
   "cell_type": "code",
   "execution_count": 54,
   "id": "fcf84bd0",
   "metadata": {
    "id": "fcf84bd0"
   },
   "outputs": [
    {
     "data": {
      "text/html": [
       "<div>\n",
       "<style scoped>\n",
       "    .dataframe tbody tr th:only-of-type {\n",
       "        vertical-align: middle;\n",
       "    }\n",
       "\n",
       "    .dataframe tbody tr th {\n",
       "        vertical-align: top;\n",
       "    }\n",
       "\n",
       "    .dataframe thead th {\n",
       "        text-align: right;\n",
       "    }\n",
       "</style>\n",
       "<table border=\"1\" class=\"dataframe\">\n",
       "  <thead>\n",
       "    <tr style=\"text-align: right;\">\n",
       "      <th></th>\n",
       "      <th>Actual</th>\n",
       "      <th>Predicted</th>\n",
       "    </tr>\n",
       "  </thead>\n",
       "  <tbody>\n",
       "    <tr>\n",
       "      <th>38775</th>\n",
       "      <td>0</td>\n",
       "      <td>0</td>\n",
       "    </tr>\n",
       "    <tr>\n",
       "      <th>25175</th>\n",
       "      <td>1</td>\n",
       "      <td>1</td>\n",
       "    </tr>\n",
       "    <tr>\n",
       "      <th>43308</th>\n",
       "      <td>0</td>\n",
       "      <td>0</td>\n",
       "    </tr>\n",
       "    <tr>\n",
       "      <th>80027</th>\n",
       "      <td>0</td>\n",
       "      <td>0</td>\n",
       "    </tr>\n",
       "    <tr>\n",
       "      <th>116733</th>\n",
       "      <td>0</td>\n",
       "      <td>0</td>\n",
       "    </tr>\n",
       "    <tr>\n",
       "      <th>95216</th>\n",
       "      <td>0</td>\n",
       "      <td>0</td>\n",
       "    </tr>\n",
       "    <tr>\n",
       "      <th>93306</th>\n",
       "      <td>0</td>\n",
       "      <td>0</td>\n",
       "    </tr>\n",
       "    <tr>\n",
       "      <th>7823</th>\n",
       "      <td>0</td>\n",
       "      <td>0</td>\n",
       "    </tr>\n",
       "    <tr>\n",
       "      <th>61057</th>\n",
       "      <td>1</td>\n",
       "      <td>1</td>\n",
       "    </tr>\n",
       "    <tr>\n",
       "      <th>80897</th>\n",
       "      <td>1</td>\n",
       "      <td>1</td>\n",
       "    </tr>\n",
       "  </tbody>\n",
       "</table>\n",
       "</div>"
      ],
      "text/plain": [
       "        Actual  Predicted\n",
       "38775        0          0\n",
       "25175        1          1\n",
       "43308        0          0\n",
       "80027        0          0\n",
       "116733       0          0\n",
       "95216        0          0\n",
       "93306        0          0\n",
       "7823         0          0\n",
       "61057        1          1\n",
       "80897        1          1"
      ]
     },
     "execution_count": 54,
     "metadata": {},
     "output_type": "execute_result"
    }
   ],
   "source": [
    "# dt = DecisionTreeClassifier(criterion='entropy', random_state=42)\n",
    "model = AdaBoostClassifier(base_estimator=best_model_dt, n_estimators=50,learning_rate=0.1, random_state=42)\n",
    "\n",
    "#Fit the training feature Xs and training label Ys\n",
    "model.fit(X_train_norm, y_train)\n",
    "\n",
    "#Use the trained model to predict the test data\n",
    "predictions = model.predict(X_test_norm)\n",
    "\n",
    "results_df = pd.DataFrame({'Actual': y_test, 'Predicted': predictions})\n",
    "results_df.sample(10)\n"
   ]
  },
  {
   "cell_type": "code",
   "execution_count": 55,
   "id": "f583f9cd",
   "metadata": {
    "id": "f583f9cd"
   },
   "outputs": [
    {
     "name": "stdout",
     "output_type": "stream",
     "text": [
      "Classification Report: \n",
      "              precision    recall  f1-score   support\n",
      "\n",
      "           0       0.87      0.98      0.92     22494\n",
      "           1       0.90      0.54      0.68      7240\n",
      "\n",
      "    accuracy                           0.87     29734\n",
      "   macro avg       0.89      0.76      0.80     29734\n",
      "weighted avg       0.88      0.87      0.86     29734\n",
      "\n",
      "Confusion Matrix: \n",
      "[[22076   418]\n",
      " [ 3335  3905]]\n",
      "Accuracy:  0.8737808569314589\n",
      "Precision:  0.9033078880407125\n",
      "Recall:  0.539364640883978\n",
      "F1:  0.675430251664793\n",
      "Time taken:  5:45:25.303215\n"
     ]
    },
    {
     "data": {
      "image/png": "[encoded data removed]",
      "text/plain": [
       "<Figure size 432x288 with 1 Axes>"
      ]
     },
     "metadata": {
      "needs_background": "light"
     },
     "output_type": "display_data"
    }
   ],
   "source": [
    "dt_confusion_matrix = confusion_matrix(y_test,predictions)\n",
    "\n",
    "labels = [0, 1]\n",
    "\n",
    "sns.heatmap(dt_confusion_matrix, square=True, annot=True, fmt='d', cbar=False, cmap='Blues',\n",
    "            xticklabels=labels, yticklabels=labels)\n",
    "\n",
    "dt_classification_report = classification_report(y_test,predictions)\n",
    "dt_accuracy = accuracy_score(y_test,predictions)\n",
    "dt_precision = precision_score(y_test,predictions)\n",
    "dt_recall = recall_score(y_test,predictions)\n",
    "dt_f1 = f1_score(y_test,predictions)\n",
    "\n",
    "print(\"Classification Report: \")\n",
    "print(dt_classification_report)\n",
    "\n",
    "print(\"Confusion Matrix: \")\n",
    "print(dt_confusion_matrix)\n",
    "\n",
    "print(\"Accuracy: \", dt_accuracy)\n",
    "print(\"Precision: \",dt_precision)\n",
    "print(\"Recall: \",dt_recall)\n",
    "print(\"F1: \",dt_f1)\n",
    "print('Time taken: ', datetime.now()-start)"
   ]
  },
  {
   "cell_type": "markdown",
   "id": "eb6e058e",
   "metadata": {
    "id": "eb6e058e"
   },
   "source": [
    "### Random Forest (Hyperparameter Tuning)"
   ]
  },
  {
   "cell_type": "code",
   "execution_count": 12,
   "id": "f6d1c576",
   "metadata": {
    "id": "f6d1c576"
   },
   "outputs": [
    {
     "data": {
      "text/html": [
       "<div>\n",
       "<style scoped>\n",
       "    .dataframe tbody tr th:only-of-type {\n",
       "        vertical-align: middle;\n",
       "    }\n",
       "\n",
       "    .dataframe tbody tr th {\n",
       "        vertical-align: top;\n",
       "    }\n",
       "\n",
       "    .dataframe thead th {\n",
       "        text-align: right;\n",
       "    }\n",
       "</style>\n",
       "<table border=\"1\" class=\"dataframe\">\n",
       "  <thead>\n",
       "    <tr style=\"text-align: right;\">\n",
       "      <th></th>\n",
       "      <th>Actual</th>\n",
       "      <th>Predicted</th>\n",
       "    </tr>\n",
       "  </thead>\n",
       "  <tbody>\n",
       "    <tr>\n",
       "      <th>29528</th>\n",
       "      <td>0</td>\n",
       "      <td>0</td>\n",
       "    </tr>\n",
       "    <tr>\n",
       "      <th>37961</th>\n",
       "      <td>1</td>\n",
       "      <td>1</td>\n",
       "    </tr>\n",
       "    <tr>\n",
       "      <th>60725</th>\n",
       "      <td>0</td>\n",
       "      <td>0</td>\n",
       "    </tr>\n",
       "    <tr>\n",
       "      <th>88763</th>\n",
       "      <td>0</td>\n",
       "      <td>0</td>\n",
       "    </tr>\n",
       "    <tr>\n",
       "      <th>87666</th>\n",
       "      <td>1</td>\n",
       "      <td>0</td>\n",
       "    </tr>\n",
       "    <tr>\n",
       "      <th>108175</th>\n",
       "      <td>0</td>\n",
       "      <td>0</td>\n",
       "    </tr>\n",
       "    <tr>\n",
       "      <th>3701</th>\n",
       "      <td>0</td>\n",
       "      <td>0</td>\n",
       "    </tr>\n",
       "    <tr>\n",
       "      <th>87689</th>\n",
       "      <td>0</td>\n",
       "      <td>0</td>\n",
       "    </tr>\n",
       "    <tr>\n",
       "      <th>19336</th>\n",
       "      <td>1</td>\n",
       "      <td>0</td>\n",
       "    </tr>\n",
       "    <tr>\n",
       "      <th>16011</th>\n",
       "      <td>0</td>\n",
       "      <td>0</td>\n",
       "    </tr>\n",
       "  </tbody>\n",
       "</table>\n",
       "</div>"
      ],
      "text/plain": [
       "        Actual  Predicted\n",
       "29528        0          0\n",
       "37961        1          1\n",
       "60725        0          0\n",
       "88763        0          0\n",
       "87666        1          0\n",
       "108175       0          0\n",
       "3701         0          0\n",
       "87689        0          0\n",
       "19336        1          0\n",
       "16011        0          0"
      ]
     },
     "execution_count": 12,
     "metadata": {},
     "output_type": "execute_result"
    }
   ],
   "source": [
    "abc = AdaBoostClassifier(base_estimator=best_model_rf, n_estimators=50, learning_rate=0.1,algorithm = \"SAMME\", random_state=42)\n",
    "\n",
    "abc.fit(X_train_norm, y_train)\n",
    "\n",
    "predictions = abc.predict(X_test_norm)\n",
    "results_df = pd.DataFrame({'Actual': y_test, 'Predicted': predictions})\n",
    "results_df.sample(10)"
   ]
  },
  {
   "cell_type": "code",
   "execution_count": 13,
   "id": "9f4f7e89",
   "metadata": {
    "id": "9f4f7e89"
   },
   "outputs": [
    {
     "name": "stdout",
     "output_type": "stream",
     "text": [
      "Classification Report: \n",
      "              precision    recall  f1-score   support\n",
      "\n",
      "           0       0.89      0.97      0.93     22494\n",
      "           1       0.86      0.62      0.72      7240\n",
      "\n",
      "    accuracy                           0.88     29734\n",
      "   macro avg       0.88      0.79      0.82     29734\n",
      "weighted avg       0.88      0.88      0.88     29734\n",
      "\n",
      "Confusion Matrix: \n",
      "[[21787   707]\n",
      " [ 2743  4497]]\n",
      "Accuracy:  0.883971211407816\n",
      "Precision:  0.8641429669485011\n",
      "Recall:  0.6211325966850829\n",
      "F1:  0.7227579556412729\n",
      "Time taken:  0:33:24.451681\n"
     ]
    },
    {
     "data": {
      "image/png": "[encoded data removed]",
      "text/plain": [
       "<Figure size 432x288 with 1 Axes>"
      ]
     },
     "metadata": {
      "needs_background": "light"
     },
     "output_type": "display_data"
    }
   ],
   "source": [
    "rf_confusion_matrix = confusion_matrix(y_test,predictions)\n",
    "\n",
    "labels = [0, 1]\n",
    "\n",
    "sns.heatmap(rf_confusion_matrix, square=True, annot=True, fmt='d', cbar=False, cmap='Blues',\n",
    "            xticklabels=labels, yticklabels=labels)\n",
    "\n",
    "rf_classification_report = classification_report(y_test,predictions)\n",
    "rf_accuracy = accuracy_score(y_test,predictions)\n",
    "rf_precision = precision_score(y_test,predictions)\n",
    "rf_recall = recall_score(y_test,predictions)\n",
    "rf_f1 = f1_score(y_test,predictions)\n",
    "\n",
    "print(\"Classification Report: \")\n",
    "print(rf_classification_report)\n",
    "\n",
    "print(\"Confusion Matrix: \")\n",
    "print(rf_confusion_matrix)\n",
    "\n",
    "print(\"Accuracy: \", rf_accuracy)\n",
    "print(\"Precision: \",rf_precision)\n",
    "print(\"Recall: \",rf_recall)\n",
    "print(\"F1: \",rf_f1)\n",
    "print('Time taken: ', datetime.now()-start)"
   ]
  },
  {
   "cell_type": "markdown",
   "id": "acb7016c",
   "metadata": {
    "id": "acb7016c"
   },
   "source": [
    "## Ensemble Method - Bagging"
   ]
  },
  {
   "cell_type": "markdown",
   "id": "a948a0ad",
   "metadata": {
    "id": "a948a0ad"
   },
   "source": [
    "### Logistic Regression"
   ]
  },
  {
   "cell_type": "code",
   "execution_count": 57,
   "id": "8342da15",
   "metadata": {
    "id": "8342da15"
   },
   "outputs": [
    {
     "data": {
      "text/html": [
       "<div>\n",
       "<style scoped>\n",
       "    .dataframe tbody tr th:only-of-type {\n",
       "        vertical-align: middle;\n",
       "    }\n",
       "\n",
       "    .dataframe tbody tr th {\n",
       "        vertical-align: top;\n",
       "    }\n",
       "\n",
       "    .dataframe thead th {\n",
       "        text-align: right;\n",
       "    }\n",
       "</style>\n",
       "<table border=\"1\" class=\"dataframe\">\n",
       "  <thead>\n",
       "    <tr style=\"text-align: right;\">\n",
       "      <th></th>\n",
       "      <th>Actual</th>\n",
       "      <th>Predicted</th>\n",
       "    </tr>\n",
       "  </thead>\n",
       "  <tbody>\n",
       "    <tr>\n",
       "      <th>52339</th>\n",
       "      <td>1</td>\n",
       "      <td>1</td>\n",
       "    </tr>\n",
       "    <tr>\n",
       "      <th>120191</th>\n",
       "      <td>0</td>\n",
       "      <td>0</td>\n",
       "    </tr>\n",
       "    <tr>\n",
       "      <th>79371</th>\n",
       "      <td>0</td>\n",
       "      <td>0</td>\n",
       "    </tr>\n",
       "    <tr>\n",
       "      <th>51858</th>\n",
       "      <td>0</td>\n",
       "      <td>0</td>\n",
       "    </tr>\n",
       "    <tr>\n",
       "      <th>108887</th>\n",
       "      <td>0</td>\n",
       "      <td>0</td>\n",
       "    </tr>\n",
       "    <tr>\n",
       "      <th>20206</th>\n",
       "      <td>0</td>\n",
       "      <td>0</td>\n",
       "    </tr>\n",
       "    <tr>\n",
       "      <th>20772</th>\n",
       "      <td>0</td>\n",
       "      <td>0</td>\n",
       "    </tr>\n",
       "    <tr>\n",
       "      <th>134124</th>\n",
       "      <td>0</td>\n",
       "      <td>0</td>\n",
       "    </tr>\n",
       "    <tr>\n",
       "      <th>123727</th>\n",
       "      <td>0</td>\n",
       "      <td>0</td>\n",
       "    </tr>\n",
       "    <tr>\n",
       "      <th>131818</th>\n",
       "      <td>0</td>\n",
       "      <td>0</td>\n",
       "    </tr>\n",
       "  </tbody>\n",
       "</table>\n",
       "</div>"
      ],
      "text/plain": [
       "        Actual  Predicted\n",
       "52339        1          1\n",
       "120191       0          0\n",
       "79371        0          0\n",
       "51858        0          0\n",
       "108887       0          0\n",
       "20206        0          0\n",
       "20772        0          0\n",
       "134124       0          0\n",
       "123727       0          0\n",
       "131818       0          0"
      ]
     },
     "execution_count": 57,
     "metadata": {},
     "output_type": "execute_result"
    }
   ],
   "source": [
    "logreg = LogisticRegression(random_state=42)\n",
    "bag_model = BaggingClassifier(base_estimator=logreg, n_estimators=50, bootstrap=True,oob_score=True,random_state=42)\n",
    "\n",
    "bag_model.fit(X_train_norm, y_train)\n",
    "\n",
    "predictions = bag_model.predict(X_test_norm)\n",
    "results_df = pd.DataFrame({'Actual': y_test, 'Predicted': predictions})\n",
    "results_df.sample(10)"
   ]
  },
  {
   "cell_type": "code",
   "execution_count": 58,
   "id": "fba52701",
   "metadata": {
    "id": "fba52701"
   },
   "outputs": [
    {
     "name": "stdout",
     "output_type": "stream",
     "text": [
      "Classification Report: \n",
      "              precision    recall  f1-score   support\n",
      "\n",
      "           0       0.85      0.99      0.91     22494\n",
      "           1       0.91      0.47      0.62      7240\n",
      "\n",
      "    accuracy                           0.86     29734\n",
      "   macro avg       0.88      0.73      0.77     29734\n",
      "weighted avg       0.87      0.86      0.84     29734\n",
      "\n",
      "Confusion Matrix: \n",
      "[[22164   330]\n",
      " [ 3851  3389]]\n",
      "Accuracy:  0.8593865608394431\n",
      "Precision:  0.9112664694810433\n",
      "Recall:  0.4680939226519337\n",
      "F1:  0.6184870882379779\n",
      "Time taken:  6:12:27.022145\n"
     ]
    },
    {
     "data": {
      "image/png": "[encoded data removed]",
      "text/plain": [
       "<Figure size 432x288 with 1 Axes>"
      ]
     },
     "metadata": {
      "needs_background": "light"
     },
     "output_type": "display_data"
    }
   ],
   "source": [
    "matrix = confusion_matrix(y_test,predictions)\n",
    "\n",
    "labels = [0, 1]\n",
    "\n",
    "sns.heatmap(matrix, square=True, annot=True, fmt='d', cbar=False, cmap='Blues',\n",
    "            xticklabels=labels, yticklabels=labels)\n",
    "\n",
    "report = classification_report(y_test,predictions)\n",
    "accuracy = accuracy_score(y_test,predictions)\n",
    "precision = precision_score(y_test,predictions)\n",
    "recall = recall_score(y_test,predictions)\n",
    "f1 = f1_score(y_test,predictions)\n",
    "\n",
    "print(\"Classification Report: \")\n",
    "print(report)\n",
    "\n",
    "print(\"Confusion Matrix: \")\n",
    "print(matrix)\n",
    "\n",
    "print(\"Accuracy: \", accuracy)\n",
    "print(\"Precision: \",precision)\n",
    "print(\"Recall: \",recall)\n",
    "print(\"F1: \",f1)\n",
    "print('Time taken: ', datetime.now()-start)"
   ]
  },
  {
   "cell_type": "markdown",
   "id": "b77ed198",
   "metadata": {
    "id": "b77ed198"
   },
   "source": [
    "### Naive Bayes "
   ]
  },
  {
   "cell_type": "code",
   "execution_count": 59,
   "id": "b36a4036",
   "metadata": {
    "id": "b36a4036"
   },
   "outputs": [
    {
     "data": {
      "text/html": [
       "<div>\n",
       "<style scoped>\n",
       "    .dataframe tbody tr th:only-of-type {\n",
       "        vertical-align: middle;\n",
       "    }\n",
       "\n",
       "    .dataframe tbody tr th {\n",
       "        vertical-align: top;\n",
       "    }\n",
       "\n",
       "    .dataframe thead th {\n",
       "        text-align: right;\n",
       "    }\n",
       "</style>\n",
       "<table border=\"1\" class=\"dataframe\">\n",
       "  <thead>\n",
       "    <tr style=\"text-align: right;\">\n",
       "      <th></th>\n",
       "      <th>Actual</th>\n",
       "      <th>Predicted</th>\n",
       "    </tr>\n",
       "  </thead>\n",
       "  <tbody>\n",
       "    <tr>\n",
       "      <th>44145</th>\n",
       "      <td>0</td>\n",
       "      <td>0</td>\n",
       "    </tr>\n",
       "    <tr>\n",
       "      <th>116437</th>\n",
       "      <td>0</td>\n",
       "      <td>0</td>\n",
       "    </tr>\n",
       "    <tr>\n",
       "      <th>110792</th>\n",
       "      <td>0</td>\n",
       "      <td>0</td>\n",
       "    </tr>\n",
       "    <tr>\n",
       "      <th>67006</th>\n",
       "      <td>0</td>\n",
       "      <td>0</td>\n",
       "    </tr>\n",
       "    <tr>\n",
       "      <th>69216</th>\n",
       "      <td>0</td>\n",
       "      <td>0</td>\n",
       "    </tr>\n",
       "    <tr>\n",
       "      <th>55688</th>\n",
       "      <td>0</td>\n",
       "      <td>0</td>\n",
       "    </tr>\n",
       "    <tr>\n",
       "      <th>88937</th>\n",
       "      <td>0</td>\n",
       "      <td>1</td>\n",
       "    </tr>\n",
       "    <tr>\n",
       "      <th>64241</th>\n",
       "      <td>0</td>\n",
       "      <td>0</td>\n",
       "    </tr>\n",
       "    <tr>\n",
       "      <th>95218</th>\n",
       "      <td>0</td>\n",
       "      <td>0</td>\n",
       "    </tr>\n",
       "    <tr>\n",
       "      <th>42152</th>\n",
       "      <td>1</td>\n",
       "      <td>1</td>\n",
       "    </tr>\n",
       "  </tbody>\n",
       "</table>\n",
       "</div>"
      ],
      "text/plain": [
       "        Actual  Predicted\n",
       "44145        0          0\n",
       "116437       0          0\n",
       "110792       0          0\n",
       "67006        0          0\n",
       "69216        0          0\n",
       "55688        0          0\n",
       "88937        0          1\n",
       "64241        0          0\n",
       "95218        0          0\n",
       "42152        1          1"
      ]
     },
     "execution_count": 59,
     "metadata": {},
     "output_type": "execute_result"
    }
   ],
   "source": [
    "naive_bayes = GaussianNB()\n",
    "bag_model = BaggingClassifier(base_estimator=naive_bayes, n_estimators=50, bootstrap=True,oob_score=True,random_state=42)\n",
    "\n",
    "bag_model.fit(X_train_norm, y_train)\n",
    "\n",
    "predictions = bag_model.predict(X_test_norm)\n",
    "results_df = pd.DataFrame({'Actual': y_test, 'Predicted': predictions})\n",
    "results_df.sample(10)\n"
   ]
  },
  {
   "cell_type": "code",
   "execution_count": 60,
   "id": "9d8ddbd5",
   "metadata": {
    "id": "9d8ddbd5"
   },
   "outputs": [
    {
     "name": "stdout",
     "output_type": "stream",
     "text": [
      "Classification Report: \n",
      "              precision    recall  f1-score   support\n",
      "\n",
      "           0       0.84      0.94      0.89     22494\n",
      "           1       0.71      0.45      0.55      7240\n",
      "\n",
      "    accuracy                           0.82     29734\n",
      "   macro avg       0.78      0.69      0.72     29734\n",
      "weighted avg       0.81      0.82      0.81     29734\n",
      "\n",
      "Confusion Matrix: \n",
      "[[21191  1303]\n",
      " [ 4009  3231]]\n",
      "Accuracy:  0.8213492971009618\n",
      "Precision:  0.7126157917953242\n",
      "Recall:  0.4462707182320442\n",
      "F1:  0.5488364192288092\n",
      "Time taken:  6:12:31.957389\n"
     ]
    },
    {
     "data": {
      "image/png": "[encoded data removed]",
      "text/plain": [
       "<Figure size 432x288 with 1 Axes>"
      ]
     },
     "metadata": {
      "needs_background": "light"
     },
     "output_type": "display_data"
    }
   ],
   "source": [
    "nb_confusion_matrix = confusion_matrix(y_test,predictions)\n",
    "\n",
    "labels = [0, 1]\n",
    "\n",
    "sns.heatmap(nb_confusion_matrix, square=True, annot=True, fmt='d', cbar=False, cmap='Blues',\n",
    "            xticklabels=labels, yticklabels=labels)\n",
    "\n",
    "nb_classification_report = classification_report(y_test,predictions)\n",
    "nb_accuracy = accuracy_score(y_test,predictions)\n",
    "nb_precision = precision_score(y_test,predictions)\n",
    "nb_recall = recall_score(y_test,predictions)\n",
    "nb_f1 = f1_score(y_test,predictions)\n",
    "\n",
    "print(\"Classification Report: \")\n",
    "print(nb_classification_report)\n",
    "\n",
    "print(\"Confusion Matrix: \")\n",
    "print(nb_confusion_matrix)\n",
    "\n",
    "print(\"Accuracy: \", nb_accuracy)\n",
    "print(\"Precision: \",nb_precision)\n",
    "print(\"Recall: \",nb_recall)\n",
    "print(\"F1: \",nb_f1)\n",
    "print('Time taken: ', datetime.now()-start)"
   ]
  },
  {
   "cell_type": "markdown",
   "id": "52639c70",
   "metadata": {
    "id": "52639c70"
   },
   "source": [
    "### Support Vector Machine "
   ]
  },
  {
   "cell_type": "code",
   "execution_count": 20,
   "id": "c746fea6",
   "metadata": {
    "id": "c746fea6"
   },
   "outputs": [
    {
     "data": {
      "text/html": [
       "<div>\n",
       "<style scoped>\n",
       "    .dataframe tbody tr th:only-of-type {\n",
       "        vertical-align: middle;\n",
       "    }\n",
       "\n",
       "    .dataframe tbody tr th {\n",
       "        vertical-align: top;\n",
       "    }\n",
       "\n",
       "    .dataframe thead th {\n",
       "        text-align: right;\n",
       "    }\n",
       "</style>\n",
       "<table border=\"1\" class=\"dataframe\">\n",
       "  <thead>\n",
       "    <tr style=\"text-align: right;\">\n",
       "      <th></th>\n",
       "      <th>Actual</th>\n",
       "      <th>Predicted</th>\n",
       "    </tr>\n",
       "  </thead>\n",
       "  <tbody>\n",
       "    <tr>\n",
       "      <th>76746</th>\n",
       "      <td>0</td>\n",
       "      <td>0</td>\n",
       "    </tr>\n",
       "    <tr>\n",
       "      <th>81359</th>\n",
       "      <td>0</td>\n",
       "      <td>0</td>\n",
       "    </tr>\n",
       "    <tr>\n",
       "      <th>54228</th>\n",
       "      <td>0</td>\n",
       "      <td>0</td>\n",
       "    </tr>\n",
       "    <tr>\n",
       "      <th>145161</th>\n",
       "      <td>0</td>\n",
       "      <td>0</td>\n",
       "    </tr>\n",
       "    <tr>\n",
       "      <th>77587</th>\n",
       "      <td>1</td>\n",
       "      <td>0</td>\n",
       "    </tr>\n",
       "    <tr>\n",
       "      <th>110060</th>\n",
       "      <td>0</td>\n",
       "      <td>0</td>\n",
       "    </tr>\n",
       "    <tr>\n",
       "      <th>93551</th>\n",
       "      <td>0</td>\n",
       "      <td>0</td>\n",
       "    </tr>\n",
       "    <tr>\n",
       "      <th>101801</th>\n",
       "      <td>1</td>\n",
       "      <td>1</td>\n",
       "    </tr>\n",
       "    <tr>\n",
       "      <th>87550</th>\n",
       "      <td>0</td>\n",
       "      <td>0</td>\n",
       "    </tr>\n",
       "    <tr>\n",
       "      <th>18104</th>\n",
       "      <td>0</td>\n",
       "      <td>0</td>\n",
       "    </tr>\n",
       "  </tbody>\n",
       "</table>\n",
       "</div>"
      ],
      "text/plain": [
       "        Actual  Predicted\n",
       "76746        0          0\n",
       "81359        0          0\n",
       "54228        0          0\n",
       "145161       0          0\n",
       "77587        1          0\n",
       "110060       0          0\n",
       "93551        0          0\n",
       "101801       1          1\n",
       "87550        0          0\n",
       "18104        0          0"
      ]
     },
     "execution_count": 20,
     "metadata": {},
     "output_type": "execute_result"
    }
   ],
   "source": [
    "bag_model = BaggingClassifier(base_estimator=svm, n_estimators=50, bootstrap=True,oob_score=True,random_state=42)\n",
    "\n",
    "bag_model.fit(X_train_norm, y_train)\n",
    "\n",
    "\n",
    "predictions = bag_model.predict(X_test_norm)\n",
    "results_df = pd.DataFrame({'Actual': y_test, 'Predicted': predictions})\n",
    "results_df.sample(10)"
   ]
  },
  {
   "cell_type": "code",
   "execution_count": 21,
   "id": "df9f1a84",
   "metadata": {
    "id": "df9f1a84"
   },
   "outputs": [
    {
     "name": "stdout",
     "output_type": "stream",
     "text": [
      "Classification Report: \n",
      "              precision    recall  f1-score   support\n",
      "\n",
      "           0       0.85      0.99      0.91     22494\n",
      "           1       0.93      0.46      0.62      7240\n",
      "\n",
      "    accuracy                           0.86     29734\n",
      "   macro avg       0.89      0.72      0.77     29734\n",
      "weighted avg       0.87      0.86      0.84     29734\n",
      "\n",
      "Confusion Matrix: \n",
      "[[22247   247]\n",
      " [ 3910  3330]]\n",
      "Accuracy:  0.8601937176296496\n",
      "Precision:  0.9309477215543752\n",
      "Recall:  0.4599447513812155\n",
      "F1:  0.6156975131737081\n",
      "Time taken:  1:15:37.464193\n"
     ]
    },
    {
     "data": {
      "image/png": "[encoded data removed]",
      "text/plain": [
       "<Figure size 432x288 with 1 Axes>"
      ]
     },
     "metadata": {
      "needs_background": "light"
     },
     "output_type": "display_data"
    }
   ],
   "source": [
    "svm_confusion_matrix = confusion_matrix(y_test,predictions)\n",
    "\n",
    "labels = [0, 1]\n",
    "\n",
    "sns.heatmap(svm_confusion_matrix, square=True, annot=True, fmt='d', cbar=False, cmap='Blues',\n",
    "            xticklabels=labels, yticklabels=labels)\n",
    "\n",
    "svm_classification_report = classification_report(y_test,predictions)\n",
    "svm_accuracy = accuracy_score(y_test,predictions)\n",
    "svm_precision = precision_score(y_test,predictions)\n",
    "svm_recall = recall_score(y_test,predictions)\n",
    "svm_f1 = f1_score(y_test,predictions)\n",
    "\n",
    "print(\"Classification Report: \")\n",
    "print(svm_classification_report)\n",
    "\n",
    "print(\"Confusion Matrix: \")\n",
    "print(svm_confusion_matrix)\n",
    "\n",
    "print(\"Accuracy: \", svm_accuracy)\n",
    "print(\"Precision: \",svm_precision)\n",
    "print(\"Recall: \",svm_recall)\n",
    "print(\"F1: \",svm_f1)\n",
    "print('Time taken: ', datetime.now()-start)"
   ]
  },
  {
   "cell_type": "markdown",
   "id": "8e564249",
   "metadata": {
    "id": "8e564249"
   },
   "source": [
    "### Decision Tree "
   ]
  },
  {
   "cell_type": "code",
   "execution_count": 62,
   "id": "4f3e3d22",
   "metadata": {
    "id": "4f3e3d22"
   },
   "outputs": [
    {
     "data": {
      "text/html": [
       "<div>\n",
       "<style scoped>\n",
       "    .dataframe tbody tr th:only-of-type {\n",
       "        vertical-align: middle;\n",
       "    }\n",
       "\n",
       "    .dataframe tbody tr th {\n",
       "        vertical-align: top;\n",
       "    }\n",
       "\n",
       "    .dataframe thead th {\n",
       "        text-align: right;\n",
       "    }\n",
       "</style>\n",
       "<table border=\"1\" class=\"dataframe\">\n",
       "  <thead>\n",
       "    <tr style=\"text-align: right;\">\n",
       "      <th></th>\n",
       "      <th>Actual</th>\n",
       "      <th>Predicted</th>\n",
       "    </tr>\n",
       "  </thead>\n",
       "  <tbody>\n",
       "    <tr>\n",
       "      <th>116515</th>\n",
       "      <td>0</td>\n",
       "      <td>0</td>\n",
       "    </tr>\n",
       "    <tr>\n",
       "      <th>144367</th>\n",
       "      <td>1</td>\n",
       "      <td>1</td>\n",
       "    </tr>\n",
       "    <tr>\n",
       "      <th>85433</th>\n",
       "      <td>0</td>\n",
       "      <td>0</td>\n",
       "    </tr>\n",
       "    <tr>\n",
       "      <th>18106</th>\n",
       "      <td>0</td>\n",
       "      <td>0</td>\n",
       "    </tr>\n",
       "    <tr>\n",
       "      <th>111543</th>\n",
       "      <td>1</td>\n",
       "      <td>0</td>\n",
       "    </tr>\n",
       "    <tr>\n",
       "      <th>51904</th>\n",
       "      <td>0</td>\n",
       "      <td>0</td>\n",
       "    </tr>\n",
       "    <tr>\n",
       "      <th>63916</th>\n",
       "      <td>0</td>\n",
       "      <td>0</td>\n",
       "    </tr>\n",
       "    <tr>\n",
       "      <th>117238</th>\n",
       "      <td>0</td>\n",
       "      <td>0</td>\n",
       "    </tr>\n",
       "    <tr>\n",
       "      <th>60758</th>\n",
       "      <td>0</td>\n",
       "      <td>0</td>\n",
       "    </tr>\n",
       "    <tr>\n",
       "      <th>137918</th>\n",
       "      <td>0</td>\n",
       "      <td>0</td>\n",
       "    </tr>\n",
       "  </tbody>\n",
       "</table>\n",
       "</div>"
      ],
      "text/plain": [
       "        Actual  Predicted\n",
       "116515       0          0\n",
       "144367       1          1\n",
       "85433        0          0\n",
       "18106        0          0\n",
       "111543       1          0\n",
       "51904        0          0\n",
       "63916        0          0\n",
       "117238       0          0\n",
       "60758        0          0\n",
       "137918       0          0"
      ]
     },
     "execution_count": 62,
     "metadata": {},
     "output_type": "execute_result"
    }
   ],
   "source": [
    "model = BaggingClassifier(base_estimator=best_model_dt,n_estimators=50, bootstrap=True,oob_score=True,random_state=42)\n",
    "\n",
    "# Fit the training feature Xs and training label Ys\n",
    "model.fit(X_train_norm, y_train)\n",
    "\n",
    "# Use the trained model to predict the test data\n",
    "predictions = model.predict(X_test_norm)\n",
    "\n",
    "results_df = pd.DataFrame({'Actual': y_test, 'Predicted': predictions})\n",
    "results_df.sample(10)"
   ]
  },
  {
   "cell_type": "code",
   "execution_count": 63,
   "id": "b489c1cd",
   "metadata": {
    "id": "b489c1cd"
   },
   "outputs": [
    {
     "name": "stdout",
     "output_type": "stream",
     "text": [
      "Classification Report: \n",
      "              precision    recall  f1-score   support\n",
      "\n",
      "           0       0.84      0.99      0.91     22494\n",
      "           1       0.95      0.43      0.59      7240\n",
      "\n",
      "    accuracy                           0.86     29734\n",
      "   macro avg       0.90      0.71      0.75     29734\n",
      "weighted avg       0.87      0.86      0.83     29734\n",
      "\n",
      "Confusion Matrix: \n",
      "[[22325   169]\n",
      " [ 4112  3128]]\n",
      "Accuracy:  0.856023407546916\n",
      "Precision:  0.9487412799514711\n",
      "Recall:  0.4320441988950276\n",
      "F1:  0.5937173768624846\n",
      "Time taken:  6:24:52.325254\n"
     ]
    },
    {
     "data": {
      "image/png": "[encoded data removed]",
      "text/plain": [
       "<Figure size 432x288 with 1 Axes>"
      ]
     },
     "metadata": {
      "needs_background": "light"
     },
     "output_type": "display_data"
    }
   ],
   "source": [
    "dt_confusion_matrix = confusion_matrix(y_test,predictions)\n",
    "\n",
    "labels = [0, 1]\n",
    "\n",
    "sns.heatmap(dt_confusion_matrix, square=True, annot=True, fmt='d', cbar=False, cmap='Blues',\n",
    "            xticklabels=labels, yticklabels=labels)\n",
    "\n",
    "dt_classification_report = classification_report(y_test,predictions)\n",
    "dt_accuracy = accuracy_score(y_test,predictions)\n",
    "dt_precision = precision_score(y_test,predictions)\n",
    "dt_recall = recall_score(y_test,predictions)\n",
    "dt_f1 = f1_score(y_test,predictions)\n",
    "\n",
    "print(\"Classification Report: \")\n",
    "print(dt_classification_report)\n",
    "\n",
    "print(\"Confusion Matrix: \")\n",
    "print(dt_confusion_matrix)\n",
    "\n",
    "print(\"Accuracy: \", dt_accuracy)\n",
    "print(\"Precision: \",dt_precision)\n",
    "print(\"Recall: \",dt_recall)\n",
    "print(\"F1: \",dt_f1)\n",
    "print('Time taken: ', datetime.now()-start)"
   ]
  },
  {
   "cell_type": "markdown",
   "id": "c45df69c",
   "metadata": {
    "id": "c45df69c"
   },
   "source": [
    "### Random Forest"
   ]
  },
  {
   "cell_type": "code",
   "execution_count": 22,
   "id": "405e631c",
   "metadata": {
    "id": "405e631c"
   },
   "outputs": [
    {
     "data": {
      "text/html": [
       "<div>\n",
       "<style scoped>\n",
       "    .dataframe tbody tr th:only-of-type {\n",
       "        vertical-align: middle;\n",
       "    }\n",
       "\n",
       "    .dataframe tbody tr th {\n",
       "        vertical-align: top;\n",
       "    }\n",
       "\n",
       "    .dataframe thead th {\n",
       "        text-align: right;\n",
       "    }\n",
       "</style>\n",
       "<table border=\"1\" class=\"dataframe\">\n",
       "  <thead>\n",
       "    <tr style=\"text-align: right;\">\n",
       "      <th></th>\n",
       "      <th>Actual</th>\n",
       "      <th>Predicted</th>\n",
       "    </tr>\n",
       "  </thead>\n",
       "  <tbody>\n",
       "    <tr>\n",
       "      <th>70522</th>\n",
       "      <td>1</td>\n",
       "      <td>0</td>\n",
       "    </tr>\n",
       "    <tr>\n",
       "      <th>101458</th>\n",
       "      <td>0</td>\n",
       "      <td>0</td>\n",
       "    </tr>\n",
       "    <tr>\n",
       "      <th>66456</th>\n",
       "      <td>0</td>\n",
       "      <td>0</td>\n",
       "    </tr>\n",
       "    <tr>\n",
       "      <th>92100</th>\n",
       "      <td>0</td>\n",
       "      <td>0</td>\n",
       "    </tr>\n",
       "    <tr>\n",
       "      <th>84226</th>\n",
       "      <td>0</td>\n",
       "      <td>0</td>\n",
       "    </tr>\n",
       "    <tr>\n",
       "      <th>88878</th>\n",
       "      <td>0</td>\n",
       "      <td>0</td>\n",
       "    </tr>\n",
       "    <tr>\n",
       "      <th>19161</th>\n",
       "      <td>1</td>\n",
       "      <td>0</td>\n",
       "    </tr>\n",
       "    <tr>\n",
       "      <th>31200</th>\n",
       "      <td>0</td>\n",
       "      <td>0</td>\n",
       "    </tr>\n",
       "    <tr>\n",
       "      <th>71475</th>\n",
       "      <td>1</td>\n",
       "      <td>1</td>\n",
       "    </tr>\n",
       "    <tr>\n",
       "      <th>107703</th>\n",
       "      <td>0</td>\n",
       "      <td>0</td>\n",
       "    </tr>\n",
       "  </tbody>\n",
       "</table>\n",
       "</div>"
      ],
      "text/plain": [
       "        Actual  Predicted\n",
       "70522        1          0\n",
       "101458       0          0\n",
       "66456        0          0\n",
       "92100        0          0\n",
       "84226        0          0\n",
       "88878        0          0\n",
       "19161        1          0\n",
       "31200        0          0\n",
       "71475        1          1\n",
       "107703       0          0"
      ]
     },
     "execution_count": 22,
     "metadata": {},
     "output_type": "execute_result"
    }
   ],
   "source": [
    "bag_model = BaggingClassifier(base_estimator=best_model_rf, n_estimators=50, bootstrap=True,oob_score=True,random_state=42)\n",
    " \n",
    "bag_model.fit(X_train_norm, y_train)\n",
    "\n",
    "predictions = bag_model.predict(X_test_norm)\n",
    "results_df = pd.DataFrame({'Actual': y_test, 'Predicted': predictions})\n",
    "results_df.sample(10)"
   ]
  },
  {
   "cell_type": "code",
   "execution_count": 23,
   "id": "ce865f8b",
   "metadata": {
    "id": "ce865f8b"
   },
   "outputs": [
    {
     "name": "stdout",
     "output_type": "stream",
     "text": [
      "Classification Report: \n",
      "              precision    recall  f1-score   support\n",
      "\n",
      "           0       0.85      0.99      0.92     22494\n",
      "           1       0.96      0.44      0.61      7240\n",
      "\n",
      "    accuracy                           0.86     29734\n",
      "   macro avg       0.91      0.72      0.76     29734\n",
      "weighted avg       0.88      0.86      0.84     29734\n",
      "\n",
      "Confusion Matrix: \n",
      "[[22374   120]\n",
      " [ 4020  3220]]\n",
      "Accuracy:  0.8607654536893792\n",
      "Precision:  0.9640718562874252\n",
      "Recall:  0.4447513812154696\n",
      "F1:  0.6086956521739131\n",
      "Time taken:  2:15:11.932976\n"
     ]
    },
    {
     "data": {
      "image/png": "[encoded data removed]",
      "text/plain": [
       "<Figure size 432x288 with 1 Axes>"
      ]
     },
     "metadata": {
      "needs_background": "light"
     },
     "output_type": "display_data"
    }
   ],
   "source": [
    "rf_confusion_matrix = confusion_matrix(y_test,predictions)\n",
    "\n",
    "labels = [0, 1]\n",
    "\n",
    "sns.heatmap(rf_confusion_matrix, square=True, annot=True, fmt='d', cbar=False, cmap='Blues',\n",
    "            xticklabels=labels, yticklabels=labels)\n",
    "\n",
    "rf_classification_report = classification_report(y_test,predictions)\n",
    "rf_accuracy = accuracy_score(y_test,predictions)\n",
    "rf_precision = precision_score(y_test,predictions)\n",
    "rf_recall = recall_score(y_test,predictions)\n",
    "rf_f1 = f1_score(y_test,predictions)\n",
    "\n",
    "print(\"Classification Report: \")\n",
    "print(rf_classification_report)\n",
    "\n",
    "print(\"Confusion Matrix: \")\n",
    "print(rf_confusion_matrix)\n",
    "\n",
    "print(\"Accuracy: \", rf_accuracy)\n",
    "print(\"Precision: \",rf_precision)\n",
    "print(\"Recall: \",rf_recall)\n",
    "print(\"F1: \",rf_f1)\n",
    "print('Time taken: ', datetime.now()-start)"
   ]
  },
  {
   "cell_type": "code",
   "execution_count": null,
   "id": "86cbccb3",
   "metadata": {},
   "outputs": [],
   "source": []
  }
 ],
 "metadata": {
  "colab": {
   "provenance": []
  },
  "kernelspec": {
   "display_name": "Python 3 (ipykernel)",
   "language": "python",
   "name": "python3"
  },
  "language_info": {
   "codemirror_mode": {
    "name": "ipython",
    "version": 3
   },
   "file_extension": ".py",
   "mimetype": "text/x-python",
   "name": "python",
   "nbconvert_exporter": "python",
   "pygments_lexer": "ipython3",
   "version": "3.9.13"
  }
 },
 "nbformat": 4,
 "nbformat_minor": 5
}
